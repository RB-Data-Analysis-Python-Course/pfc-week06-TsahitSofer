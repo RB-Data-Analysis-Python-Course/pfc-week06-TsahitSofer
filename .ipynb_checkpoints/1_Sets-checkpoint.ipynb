{
 "cells": [
  {
   "cell_type": "markdown",
   "metadata": {},
   "source": [
    "<img src=\"images/logo.jpg\" style=\"display: block; margin-left: auto; margin-right: auto;\" alt=\"לוגו של מיזם לימוד הפייתון. נחש מצויר בצבעי צהוב וכחול, הנע בין האותיות של שם הקורס: לומדים פייתון. הסלוגן המופיע מעל לשם הקורס הוא מיזם חינמי ללימוד תכנות בעברית.\">"
   ]
  },
  {
   "cell_type": "markdown",
   "metadata": {},
   "source": [
    "# <span style=\"text-align: right; direction: rtl; float: right;\">קבוצות</span>"
   ]
  },
  {
   "cell_type": "markdown",
   "metadata": {},
   "source": [
    "## <span style=\"text-align: right; direction: rtl; float: right; clear: both;\">הגדרה</span>"
   ]
  },
  {
   "cell_type": "markdown",
   "metadata": {},
   "source": [
    "<p style=\"text-align: right; direction: rtl; float: right; clear: both;\">\n",
    "    <dfn>קבוצה</dfn> (או <dfn>set</dfn>) בפייתון היא אוסף של איברים שמתאפיינת בתכונות הבאות:\n",
    "</p>"
   ]
  },
  {
   "cell_type": "markdown",
   "metadata": {},
   "source": [
    "<ul style=\"text-align: right; direction: rtl; float: right; clear: both;\">\n",
    "    <li>לאיברים באוסף אין סדר מוגדר.</li>\n",
    "    <li>ערך לא יכול להופיע יותר מפעם אחת.</li>\n",
    "    <li>כל איבר חייב להיות immutable.</li>\n",
    "</ul>"
   ]
  },
  {
   "cell_type": "markdown",
   "metadata": {},
   "source": [
    "<p style=\"text-align: right; direction: rtl; float: right; clear: both;\">\n",
    "    לדוגמה:\n",
    "</p>\n",
    "\n",
    "<ul style=\"text-align: right; direction: rtl; float: right; clear: both;\">\n",
    "    <li>כתובות הדואר האלקטרוני של כל הזכאים לתעודת סיום בקורס פייתון.</li>\n",
    "    <li>המספרים הראשוניים עד 1,000.</li>\n",
    "    <li>שמות כל הקבצים בתיקייה images.</li>\n",
    "    <li>המילים בספר \"קפקא על החוף\", ללא כפילויות.</li>\n",
    "</ul>"
   ]
  },
  {
   "cell_type": "markdown",
   "metadata": {},
   "source": [
    "## <span style=\"text-align: right; direction: rtl; float: right; clear: both;\">שימוש</span>"
   ]
  },
  {
   "cell_type": "markdown",
   "metadata": {},
   "source": [
    "### <span style=\"text-align: right; direction: rtl; float: right; clear: both;\">הבסיס</span>"
   ]
  },
  {
   "cell_type": "markdown",
   "metadata": {},
   "source": [
    "<p style=\"text-align: right; direction: rtl; float: right; clear: both;\">\n",
    "    עד מחברת זו, לו היינו מתבקשים להגדיר מבנה נתונים שיאחסן עבורנו שמות של אומנים איטלקים ידועים, היינו משתמשים ברשימה או ב־tuple־ים:\n",
    "</p>"
   ]
  },
  {
   "cell_type": "code",
   "execution_count": null,
   "metadata": {},
   "outputs": [],
   "source": [
    "# List:\n",
    "italian_artists = ['Donatelo', 'Giotto', 'Leonardo', 'Masaccio', 'Michelangelo', 'Raphael', 'Titian']\n",
    "# Tuple:\n",
    "italian_artists = ('Donatelo', 'Giotto', 'Leonardo', 'Masaccio', 'Michelangelo', 'Raphael', 'Titian')"
   ]
  },
  {
   "cell_type": "markdown",
   "metadata": {},
   "source": [
    "<p style=\"text-align: right; direction: rtl; float: right; clear: both;\">\n",
    "    אך כיוון שמדובר באוסף איברים ללא חזרות וללא סדר מוגדר, אפשר לשמור אותם כ־set:\n",
    "</p>"
   ]
  },
  {
   "cell_type": "code",
   "execution_count": null,
   "metadata": {},
   "outputs": [],
   "source": [
    "italian_artists = {'Donatelo', 'Giotto', 'Leonardo', 'Masaccio', 'Michelangelo', 'Raphael', 'Titian'}"
   ]
  },
  {
   "cell_type": "markdown",
   "metadata": {},
   "source": [
    "<p style=\"text-align: right; direction: rtl; float: right; clear: both;\">\n",
    "    אפשר לראות שההגדרות דומות מאוד במראה שלהן.<br>\n",
    "    כדי להגדיר קבוצה, נפתח סוגריים מסולסלים (כמו במילון), ונציין את איבריה, כשהם מופרדים זה מזה בפסיקים.<br>\n",
    "    אם תרצו, תוכלו לדמיין קבוצה כמילון שבו יש רק מפתחות.\n",
    "</p>"
   ]
  },
  {
   "cell_type": "markdown",
   "metadata": {},
   "source": [
    "<p style=\"text-align: right; direction: rtl; float: right; clear: both;\">\n",
    "    נוכל גם להגדיר קבוצה ריקה באמצעות הפונקציה <code>set</code>.<br>\n",
    "    נגדיר, לדוגמה, את קבוצת כל החדי־קרן הוורודות הבלתי נראות:\n",
    "</p>"
   ]
  },
  {
   "cell_type": "code",
   "execution_count": 1,
   "metadata": {},
   "outputs": [
    {
     "name": "stdout",
     "output_type": "stream",
     "text": [
      "set()\n"
     ]
    }
   ],
   "source": [
    "invisible_pink_unicorns = set()\n",
    "print(invisible_pink_unicorns)"
   ]
  },
  {
   "cell_type": "markdown",
   "metadata": {},
   "source": [
    "<p style=\"text-align: right; direction: rtl; float: right; clear: both;\">\n",
    "    תעלול נחמד נוסף הוא המרת iterable לקבוצה, באמצעות אותה הפונקציה:\n",
    "</p>"
   ]
  },
  {
   "cell_type": "code",
   "execution_count": 2,
   "metadata": {},
   "outputs": [
    {
     "name": "stdout",
     "output_type": "stream",
     "text": [
      "{0, 1, 2, 3, 4, 5, 6, 7, 8, 9}\n"
     ]
    }
   ],
   "source": [
    "numbers = range(10)\n",
    "numbers = set(numbers)\n",
    "print(numbers)"
   ]
  },
  {
   "cell_type": "markdown",
   "metadata": {},
   "source": [
    "<p style=\"text-align: right; direction: rtl; float: right; clear: both;\">\n",
    "    בהגדרה שבתחילת הפרק ציינו שקבוצה לא תכיל כמה איברים בעלי ערך זהה.<br>\n",
    "    למרות ההגבלה הזו, בהגדרת הקבוצה אפשר לספק ערכים שחוזרים על עצמם.<br>\n",
    "    הקבוצה \"תבלע\" את הכפילויות בערכים, ותשאיר רק איבר אחד מכל ערך:\n",
    "</p>"
   ]
  },
  {
   "cell_type": "code",
   "execution_count": 3,
   "metadata": {},
   "outputs": [
    {
     "name": "stdout",
     "output_type": "stream",
     "text": [
      "{1, 2, 3, 5}\n",
      "{'a', 'b', 'c'}\n"
     ]
    }
   ],
   "source": [
    "print({1, 1, 2, 3, 5})\n",
    "print(set('abccccccccccc'))"
   ]
  },
  {
   "cell_type": "markdown",
   "metadata": {},
   "source": [
    "<div class=\"align-center\" style=\"display: flex; text-align: right; direction: rtl; clear: both;\">\n",
    "    <div style=\"display: flex; width: 10%; float: right; clear: both;\">\n",
    "        <img src=\"images/exercise.svg\" style=\"height: 50px !important;\" alt=\"תרגול\"> \n",
    "    </div>\n",
    "    <div style=\"width: 70%\">\n",
    "        <p style=\"text-align: right; direction: rtl; float: right; clear: both;\">\n",
    "            הגדירו קבוצה שאיבריה הם האותיות הקטנות והגדולות באנגלית.<br>\n",
    "            ישנו פתרון פשוט שלא מצריך מכם לכתוב את כל הא\"ב.\n",
    "        </p>\n",
    "    </div>\n",
    "    <div style=\"display: flex; width: 20%; border-right: 0.1rem solid #A5A5A5; padding: 1rem 2rem;\">\n",
    "        <p style=\"text-align: center; direction: rtl; justify-content: center; align-items: center; clear: both;\">\n",
    "            <strong>חשוב!</strong><br>\n",
    "            פתרו לפני שתמשיכו!\n",
    "        </p>\n",
    "    </div>\n",
    "</div>"
   ]
  },
  {
   "cell_type": "code",
   "execution_count": 7,
   "metadata": {},
   "outputs": [
    {
     "name": "stdout",
     "output_type": "stream",
     "text": [
      "{'A', 'f', 'd', 'J', 't', 'D', 'Z', 'l', 'w', 'm', 'g', 'L', 'p', 'e', 'K', 'M', 'b', 'x', 'Q', 'S', 'U', 's', 'I', 'n', 'h', 'R', 'k', 'o', 'G', 'j', 'H', 'a', 'z', 'X', 'P', 'i', 'F', 'r', 'V', 'E', 'Y', 'B', 'y', 'N', 'O', 'C', 'T', 'u', 'q', 'v', 'W', 'c'}\n"
     ]
    }
   ],
   "source": [
    "import string\n",
    "\n",
    "alphabet_group=set(string.ascii_lowercase+string.ascii_uppercase)\n",
    "print(alphabet_group)"
   ]
  },
  {
   "cell_type": "markdown",
   "metadata": {},
   "source": [
    "### <span style=\"text-align: right; direction: rtl; float: right; clear: both;\">פעולות בין קבוצות</span>"
   ]
  },
  {
   "cell_type": "markdown",
   "metadata": {},
   "source": [
    "<p style=\"text-align: right; direction: rtl; float: right; clear: both;\">\n",
    "    נגדיר שוב את קבוצת האומנים האיטלקים:\n",
    "</p>"
   ]
  },
  {
   "cell_type": "code",
   "execution_count": 9,
   "metadata": {},
   "outputs": [],
   "source": [
    "italian_artists = {'Donatelo', 'Giotto', 'Leonardo', 'Masaccio', 'Michelangelo', 'Raphael', 'Titian'}"
   ]
  },
  {
   "cell_type": "markdown",
   "metadata": {},
   "source": [
    "<p style=\"text-align: right; direction: rtl; float: right; clear: both;\">\n",
    "    אחד מיתרונותיהן רבי־הערך של קבוצות הוא היכולת לבצע ביניהן פעולות בקלות.<br>\n",
    "    נדגים את הרעיון בעזרת הגדרת קבוצה נוספת, הפעם של דמויות מחוברות הקומיקס של צבי הנינג'ה:\n",
    "</p>"
   ]
  },
  {
   "cell_type": "code",
   "execution_count": 10,
   "metadata": {},
   "outputs": [],
   "source": [
    "ninja_turtles_characters = {'Donatelo', 'Leonardo', 'Michelangelo', 'Raphael', 'Splinter', 'Shredder'}"
   ]
  },
  {
   "cell_type": "markdown",
   "metadata": {},
   "source": [
    "<p style=\"text-align: right; direction: rtl; float: right; clear: both;\">\n",
    "    כעת נוכל, לדוגמה, לבחור את כל הדמויות מצבי הנינג'ה שנושאות שם של אומן איטלקי מפורסם.<br>\n",
    "    הקבוצה שנוצרת מהאיברים המשותפים לשתי הקבוצות נקראת <dfn>קבוצת החיתוך</dfn>.\n",
    "</p>"
   ]
  },
  {
   "cell_type": "code",
   "execution_count": 11,
   "metadata": {},
   "outputs": [
    {
     "data": {
      "text/plain": [
       "{'Donatelo', 'Leonardo', 'Michelangelo', 'Raphael'}"
      ]
     },
     "execution_count": 11,
     "metadata": {},
     "output_type": "execute_result"
    }
   ],
   "source": [
    "ninja_turtles_characters.intersection(italian_artists)"
   ]
  },
  {
   "cell_type": "markdown",
   "metadata": {},
   "source": [
    "<p style=\"text-align: right; direction: rtl; float: right; clear: both;\">\n",
    "    ישנן פעולות רבות נוספות שאפשר לבצע בין קבוצות.<br>\n",
    "    דרך קלה להמחיש את היחסים ההדדיים בין הקבוצות הללו היא תרשים שנקרא \"<a href=\"https://he.wikipedia.org/wiki/%D7%93%D7%99%D7%90%D7%92%D7%A8%D7%9E%D7%AA_%D7%95%D7%9F\">דיאגרמת ון</a>\":\n",
    "</p>"
   ]
  },
  {
   "cell_type": "markdown",
   "metadata": {},
   "source": [
    "<figure>\n",
    "    <img src=\"images/venn.svg\" style=\"max-width: 600px; margin-right: auto; margin-left: auto; text-align: center;\" alt=\"בתמונה מופיעים שני עיגולים: ורוד בימין, מעליו מופיע הכיתוב 'דמויות מצבי הנינג'ה', וטורקיז בשמאל, מעליו מופיע הכיתוב 'אומנים איטלקים'. בין העיגולים ישנה חפיפה קלה בצבע חום. בעיגול הוורוד שבימין יש את האיברים Splinter ו־Shredder, ובעיגול הטורקיז השמאלי את Giotto, Masacccio ו־Titian. בשטח החום שבחפיפה נמצאים האיברים Donatelo, Leonardo, Michelangelo ו־Raphael.\"/>\n",
    "    <figcaption style=\"margin-top: 2rem; text-align: center; direction: rtl;\">דיאגרמת ון של שתי קבוצות: דמויות מצבי הנינג'ה ואומנים איטלקים.<br>\n",
    "    אפשר לראות בשטח החפיפה שבין שני העיגולים את האיברים המשותפים לשתי הקבוצות.</figcaption>\n",
    "</figure>"
   ]
  },
  {
   "cell_type": "markdown",
   "metadata": {},
   "source": [
    "<p style=\"text-align: right; direction: rtl; float: right; clear: both;\">\n",
    "    נוכל גם לבקש, לדוגמה, את שמות האומנים האיטלקים שאינם דמויות מצבי הנינג'ה.<br>\n",
    "    נקבל בחזרה את השמות שמופיעים בתרשים בעיגול הטורקיז, אך לא בחיתוך בין שני העיגולים:\n",
    "</p>"
   ]
  },
  {
   "cell_type": "code",
   "execution_count": 12,
   "metadata": {},
   "outputs": [
    {
     "data": {
      "text/plain": [
       "{'Giotto', 'Masaccio', 'Titian'}"
      ]
     },
     "execution_count": 12,
     "metadata": {},
     "output_type": "execute_result"
    }
   ],
   "source": [
    "italian_artists.difference(ninja_turtles_characters)"
   ]
  },
  {
   "cell_type": "markdown",
   "metadata": {},
   "source": [
    "<p style=\"text-align: right; direction: rtl; float: right; clear: both;\">\n",
    "    באותה צורה נוכל לבקש את שמות כל הדמויות מצבי הנינג'ה שאינם אומנים איטלקים.<br>\n",
    "    אלו השמות שמופיעים אך ורק בעיגול הורוד, ולא בחיתוך בין שני העיגולים:\n",
    "</p>"
   ]
  },
  {
   "cell_type": "code",
   "execution_count": 13,
   "metadata": {},
   "outputs": [
    {
     "data": {
      "text/plain": [
       "{'Shredder', 'Splinter'}"
      ]
     },
     "execution_count": 13,
     "metadata": {},
     "output_type": "execute_result"
    }
   ],
   "source": [
    "ninja_turtles_characters.difference(italian_artists)"
   ]
  },
  {
   "cell_type": "markdown",
   "metadata": {},
   "source": [
    "<p style=\"text-align: right; direction: rtl; float: right; clear: both;\">\n",
    "    אפשר לבקש גם את <dfn>קבוצת האיחוד</dfn>, שמורכבת מכל הדמויות שקיימות בשתי הקבוצות.<br>\n",
    "    אלו כל הדמויות שמופיעות בשרטוט:\n",
    "</p>"
   ]
  },
  {
   "cell_type": "code",
   "execution_count": 14,
   "metadata": {},
   "outputs": [
    {
     "data": {
      "text/plain": [
       "{'Donatelo',\n",
       " 'Giotto',\n",
       " 'Leonardo',\n",
       " 'Masaccio',\n",
       " 'Michelangelo',\n",
       " 'Raphael',\n",
       " 'Shredder',\n",
       " 'Splinter',\n",
       " 'Titian'}"
      ]
     },
     "execution_count": 14,
     "metadata": {},
     "output_type": "execute_result"
    }
   ],
   "source": [
    "ninja_turtles_characters.union(italian_artists)"
   ]
  },
  {
   "cell_type": "markdown",
   "metadata": {},
   "source": [
    "<p style=\"text-align: right; direction: rtl; float: right; clear: both;\">\n",
    "    או את כל הדמויות שלא משותפות לשתי הקבוצות.<br>\n",
    "    אלו כל הדמויות שמופיעות מחוץ לחיתוך של שני העיגולים:\n",
    "</p>"
   ]
  },
  {
   "cell_type": "code",
   "execution_count": 15,
   "metadata": {},
   "outputs": [
    {
     "data": {
      "text/plain": [
       "{'Giotto', 'Masaccio', 'Shredder', 'Splinter', 'Titian'}"
      ]
     },
     "execution_count": 15,
     "metadata": {},
     "output_type": "execute_result"
    }
   ],
   "source": [
    "ninja_turtles_characters.symmetric_difference(italian_artists)"
   ]
  },
  {
   "cell_type": "markdown",
   "metadata": {},
   "source": [
    "<div class=\"align-center\" style=\"display: flex; text-align: right; direction: rtl; clear: both;\">\n",
    "    <div style=\"display: flex; width: 10%; float: right; clear: both;\">\n",
    "        <img src=\"images/exercise.svg\" style=\"height: 50px !important;\" alt=\"תרגול\"> \n",
    "    </div>\n",
    "    <div style=\"width: 70%\">\n",
    "        <p style=\"text-align: right; direction: rtl; float: right; clear: both;\">\n",
    "            צרו קבוצה שאיבריה הם 10 <a href=\"https://he.wikipedia.org/wiki/%D7%A1%D7%93%D7%A8%D7%AA_%D7%A4%D7%99%D7%91%D7%95%D7%A0%D7%90%D7%A6%27%D7%99\">מספרי פיבונאצ'י</a> הראשונים, וקבוצה נוספת שאיבריה הם המספרים הזוגיים בין 1 ל־15.<br>\n",
    "            שרטטו דיאגרמת ון של שתי הקבוצות, ובדקו שהשרטוט נאמן למציאות בעזרת הפעולות שלמדתם למעלה.\n",
    "        </p>\n",
    "    </div>\n",
    "</div>"
   ]
  },
  {
   "cell_type": "code",
   "execution_count": 19,
   "metadata": {},
   "outputs": [],
   "source": [
    "def fibonacci(num):\n",
    "    fibonacci_numbers = []\n",
    "    n1, n2 = 0, 1\n",
    "    count = 0\n",
    "    while count < num:\n",
    "        fibonacci_numbers.append(n1)\n",
    "        nth = n1 + n2\n",
    "        n1 = n2\n",
    "        n2 = nth\n",
    "        count += 1\n",
    "    return set(fibonacci_numbers)"
   ]
  },
  {
   "cell_type": "code",
   "execution_count": 20,
   "metadata": {},
   "outputs": [
    {
     "data": {
      "text/plain": [
       "{0, 1, 2, 3, 5, 8, 13, 21, 34}"
      ]
     },
     "execution_count": 20,
     "metadata": {},
     "output_type": "execute_result"
    }
   ],
   "source": [
    "fibonacci(10)"
   ]
  },
  {
   "cell_type": "code",
   "execution_count": 25,
   "metadata": {},
   "outputs": [],
   "source": [
    "def even(limit):\n",
    "    num = 1\n",
    "    even_numbers = []\n",
    "    while num <= limit:\n",
    "        if num %2 == 0:\n",
    "            even_numbers.append(num)\n",
    "        num +=1\n",
    "    return set(even_numbers)"
   ]
  },
  {
   "cell_type": "code",
   "execution_count": 26,
   "metadata": {},
   "outputs": [
    {
     "data": {
      "text/plain": [
       "{2, 4, 6, 8, 10, 12, 14}"
      ]
     },
     "execution_count": 26,
     "metadata": {},
     "output_type": "execute_result"
    }
   ],
   "source": [
    "even(15)"
   ]
  },
  {
   "cell_type": "code",
   "execution_count": 29,
   "metadata": {},
   "outputs": [
    {
     "name": "stdout",
     "output_type": "stream",
     "text": [
      "{8, 2}\n",
      "{0, 1, 3, 4, 5, 6, 10, 12, 13, 14, 21, 34}\n"
     ]
    }
   ],
   "source": [
    "even_numbers = even(15)\n",
    "fibonacci_numbers = fibonacci(10)\n",
    "\n",
    "print(fibonacci_numbers.intersection(even_numbers))\n",
    "print(fibonacci_numbers.symmetric_difference(even_numbers))"
   ]
  },
  {
   "cell_type": "markdown",
   "metadata": {},
   "source": [
    "### <span style=\"text-align: right; direction: rtl; float: right; clear: both;\">תרגיל ביניים: נענועי חנית כנגד קוף</span>"
   ]
  },
  {
   "cell_type": "markdown",
   "metadata": {},
   "source": [
    "<p style=\"text-align: right; direction: rtl; float: right; clear: both;\">\n",
    "    בתיקיית resources נמצאים הקבצים hamlet.txt ו־the-monkeys-paw.txt.<br>\n",
    "    כמה מילים משותפות לשני החיבורים? כמה שונות?<br>\n",
    "    כמה מהמילים מופיעות רק בכפת הקוף, וכמה רק בהמלט?\n",
    "</p>"
   ]
  },
  {
   "cell_type": "code",
   "execution_count": 65,
   "metadata": {},
   "outputs": [
    {
     "name": "stdout",
     "output_type": "stream",
     "text": [
      "9515\n",
      "1565\n"
     ]
    }
   ],
   "source": [
    "hamlet_file = open('resources/hamlet.txt', 'r')\n",
    "hamlet = hamlet_file.read()\n",
    "hamlet_list = hamlet.split(\" \")\n",
    "hamlet_set = set(hamlet_list)\n",
    "print(len(hamlet_set))\n",
    "\n",
    "the_monkeys_paw_file = open('resources/the-monkeys-paw.txt', 'r')\n",
    "the_monkeys_paw = the_monkeys_paw_file.read()\n",
    "monkeys_paw_list = the_monkeys_paw.split(\" \")\n",
    "monkeys_paw_set = set(monkeys_paw_list)\n",
    "print(len(monkeys_paw_set))\n",
    "\n",
    "\n",
    "def words_in_both(text1, text2):\n",
    "    intersection = text1.intersection(text2)\n",
    "    count = len(intersection)\n",
    "    return count\n",
    "\n",
    "def different_words(text1, text2):\n",
    "    difference = text1.symmetric_difference(text2)\n",
    "    count = len(difference)\n",
    "    return count\n",
    "\n",
    "def only_in_one(text1, text2):\n",
    "    only_in_one = text1.difference(text2)\n",
    "    count = len(only_in_one)\n",
    "    return count"
   ]
  },
  {
   "cell_type": "code",
   "execution_count": 66,
   "metadata": {},
   "outputs": [
    {
     "name": "stdout",
     "output_type": "stream",
     "text": [
      "500\n",
      "10080\n",
      "9015\n",
      "1065\n"
     ]
    }
   ],
   "source": [
    "print(words_in_both(monkeys_paw_set, hamlet_set))\n",
    "\n",
    "print(different_words(monkeys_paw_set, hamlet_set))\n",
    "\n",
    "print(only_in_one(hamlet_set, monkeys_paw_set))\n",
    "\n",
    "print(only_in_one(monkeys_paw_set, hamlet_set))"
   ]
  },
  {
   "cell_type": "markdown",
   "metadata": {},
   "source": [
    "### <span style=\"text-align: right; direction: rtl; float: right; clear: both;\">עריכת קבוצה</span>"
   ]
  },
  {
   "cell_type": "markdown",
   "metadata": {},
   "source": [
    "<p style=\"text-align: right; direction: rtl; float: right; clear: both;\">\n",
    "    קבוצה היא mutable – אפשר לערוך אותה מבלי ליצור קבוצה חדשה, בדומה לרשימות או למילונים.<br>\n",
    "    תכונה זו מאפשרת לנו לצרף לקבוצה איברים חדשים או להסיר ממנה איברים קיימים בקלות רבה.\n",
    "</p>"
   ]
  },
  {
   "cell_type": "markdown",
   "metadata": {},
   "source": [
    "<p style=\"text-align: right; direction: rtl; float: right; clear: both;\">\n",
    "    נוסיף לקבוצת שמות הדמויות בצבי הנינג'ה את אפריל או'ניל באמצעות הפעולה <code>add</code>:\n",
    "</p>"
   ]
  },
  {
   "cell_type": "code",
   "execution_count": 67,
   "metadata": {},
   "outputs": [
    {
     "name": "stdout",
     "output_type": "stream",
     "text": [
      "{'Splinter', 'Michelangelo', \"April O'Neil\", 'Raphael', 'Leonardo', 'Donatelo', 'Shredder'}\n"
     ]
    }
   ],
   "source": [
    "ninja_turtles_characters.add(\"April O'Neil\")\n",
    "print(ninja_turtles_characters)"
   ]
  },
  {
   "cell_type": "markdown",
   "metadata": {},
   "source": [
    "<p style=\"text-align: right; direction: rtl; float: right; clear: both;\">\n",
    "    ונמחק מהקבוצה את שרדר הרשע באמצעות הפעולה <code>remove</code>:\n",
    "</p>"
   ]
  },
  {
   "cell_type": "code",
   "execution_count": 68,
   "metadata": {},
   "outputs": [
    {
     "name": "stdout",
     "output_type": "stream",
     "text": [
      "{'Splinter', 'Michelangelo', \"April O'Neil\", 'Raphael', 'Leonardo', 'Donatelo'}\n"
     ]
    }
   ],
   "source": [
    "ninja_turtles_characters.remove(\"Shredder\")\n",
    "print(ninja_turtles_characters)"
   ]
  },
  {
   "cell_type": "markdown",
   "metadata": {},
   "source": [
    "<p style=\"text-align: right; direction: rtl; float: right; clear: both;\">\n",
    "    שימו לב שניסיון למחוק ערך שלא קיים בקבוצה יכעיס את פייתון:\n",
    "</p>"
   ]
  },
  {
   "cell_type": "code",
   "execution_count": 69,
   "metadata": {},
   "outputs": [
    {
     "ename": "KeyError",
     "evalue": "'Krang'",
     "output_type": "error",
     "traceback": [
      "\u001b[1;31m---------------------------------------------------------------------------\u001b[0m",
      "\u001b[1;31mKeyError\u001b[0m                                  Traceback (most recent call last)",
      "\u001b[1;32m<ipython-input-69-55dcd81136e7>\u001b[0m in \u001b[0;36m<module>\u001b[1;34m\u001b[0m\n\u001b[1;32m----> 1\u001b[1;33m \u001b[0mninja_turtles_characters\u001b[0m\u001b[1;33m.\u001b[0m\u001b[0mremove\u001b[0m\u001b[1;33m(\u001b[0m\u001b[1;34m\"Krang\"\u001b[0m\u001b[1;33m)\u001b[0m\u001b[1;33m\u001b[0m\u001b[1;33m\u001b[0m\u001b[0m\n\u001b[0m",
      "\u001b[1;31mKeyError\u001b[0m: 'Krang'"
     ]
    }
   ],
   "source": [
    "ninja_turtles_characters.remove(\"Krang\")"
   ]
  },
  {
   "cell_type": "markdown",
   "metadata": {},
   "source": [
    "<p style=\"text-align: right; direction: rtl; float: right; clear: both;\">\n",
    "    אלא אם כן נשתמש בפעולה <code>discard</code>, שמאפשרת לנו למחוק איברים מקבוצות, בלי לחשוש משגיאה:\n",
    "</p>"
   ]
  },
  {
   "cell_type": "code",
   "execution_count": 70,
   "metadata": {},
   "outputs": [
    {
     "name": "stdout",
     "output_type": "stream",
     "text": [
      "{'Splinter', 'Michelangelo', \"April O'Neil\", 'Raphael', 'Leonardo', 'Donatelo'}\n"
     ]
    }
   ],
   "source": [
    "ninja_turtles_characters.discard(\"Krang\")\n",
    "print(ninja_turtles_characters)"
   ]
  },
  {
   "cell_type": "markdown",
   "metadata": {},
   "source": [
    "<p style=\"text-align: right; direction: rtl; float: right; clear: both;\">\n",
    "    ולסיום – הדמויות הרעות תמיד חוזרות לסיבוב שני.<br>\n",
    "    נרחיב את הקבוצה שלנו ונוסיף אליה את הנבלים מ\"שבט הרגל\" (בחיי, ככה הם תרגמו את Foot Clan!) במכה אחת, באמצעות הפעולה <code>update</code>:\n",
    "</p>"
   ]
  },
  {
   "cell_type": "code",
   "execution_count": null,
   "metadata": {},
   "outputs": [],
   "source": [
    "foot_clan_members = {'Shredder', 'Krang', 'Karai'}\n",
    "ninja_turtles_characters.update(foot_clan_members)\n",
    "print(ninja_turtles_characters)"
   ]
  },
  {
   "cell_type": "markdown",
   "metadata": {},
   "source": [
    "<div class=\"align-center\" style=\"display: flex; text-align: right; direction: rtl; clear: both;\">\n",
    "    <div style=\"display: flex; width: 10%; float: right; clear: both;\">\n",
    "        <img src=\"images/exercise.svg\" style=\"height: 50px !important;\" alt=\"תרגול\"> \n",
    "    </div>\n",
    "    <div style=\"width: 70%\">\n",
    "        <p style=\"text-align: right; direction: rtl; float: right; clear: both;\">\n",
    "            צרו קבוצה של 100 המספרים הראשוניים הראשונים, וצרפו אליה את כל המספרים הזוגיים בין 1 ל־1,000.<br>\n",
    "            צרו קבוצה נוספת של המספרים בין 1 ל־1,000 שסכום ספרותיהם קטן מ־4.<br>\n",
    "            כמה מספרים משותפים לשתי הקבוצות שיצרתם?\n",
    "        </p>\n",
    "    </div>\n",
    "</div>"
   ]
  },
  {
   "cell_type": "code",
   "execution_count": 141,
   "metadata": {},
   "outputs": [],
   "source": [
    "def prime_number(limit):\n",
    "    num = 2\n",
    "    prime_numbers = {2,}\n",
    "    while len(prime_numbers) < limit:\n",
    "        for i in range(2, num):\n",
    "            if (num % i) == 0:\n",
    "                break\n",
    "        else:\n",
    "            prime_numbers.add(num)\n",
    "        num+=1\n",
    "    return prime_numbers\n",
    "\n",
    "def even_numbers(from_, to_):\n",
    "    even_num = set()\n",
    "    for i in range(from_, to_):\n",
    "        if i%2 == 0:\n",
    "            even_num.add(i)\n",
    "    return even_num\n",
    "\n",
    "\n",
    "def digits_sum_smaller_than_four(from_, to_):\n",
    "    digits_sum = set()\n",
    "    sum_of_digits = 0\n",
    "    for num in range(from_, to_):\n",
    "        for digit in str(num):\n",
    "            sum_of_digits += int(digit)\n",
    "        if sum_of_digits < 4:\n",
    "            digits_sum.add(num)\n",
    "        sum_of_digits = 0\n",
    "    return digits_sum\n",
    "\n"
   ]
  },
  {
   "cell_type": "code",
   "execution_count": 179,
   "metadata": {},
   "outputs": [
    {
     "name": "stdout",
     "output_type": "stream",
     "text": [
      "{2, 3, 4, 5, 6, 7, 8, 10, 11, 12, 13, 14, 16, 17, 18, 19, 20, 22, 23, 24, 26, 28, 29, 30, 31, 32, 34, 36, 37, 38, 40, 41, 42, 43, 44, 46, 47, 48, 50, 52, 53, 54, 56, 58, 59, 60, 61, 62, 64, 66, 67, 68, 70, 71, 72, 73, 74, 76, 78, 79, 80, 82, 83, 84, 86, 88, 89, 90, 92, 94, 96, 97, 98, 100, 101, 102, 103, 104, 106, 107, 108, 109, 110, 112, 113, 114, 116, 118, 120, 122, 124, 126, 127, 128, 130, 131, 132, 134, 136, 137, 138, 139, 140, 142, 144, 146, 148, 149, 150, 151, 152, 154, 156, 157, 158, 160, 162, 163, 164, 166, 167, 168, 170, 172, 173, 174, 176, 178, 179, 180, 181, 182, 184, 186, 188, 190, 191, 192, 193, 194, 196, 197, 198, 199, 200, 202, 204, 206, 208, 210, 211, 212, 214, 216, 218, 220, 222, 223, 224, 226, 227, 228, 229, 230, 232, 233, 234, 236, 238, 239, 240, 241, 242, 244, 246, 248, 250, 251, 252, 254, 256, 257, 258, 260, 262, 263, 264, 266, 268, 269, 270, 271, 272, 274, 276, 277, 278, 280, 281, 282, 283, 284, 286, 288, 290, 292, 293, 294, 296, 298, 300, 302, 304, 306, 307, 308, 310, 311, 312, 313, 314, 316, 317, 318, 320, 322, 324, 326, 328, 330, 331, 332, 334, 336, 337, 338, 340, 342, 344, 346, 347, 348, 349, 350, 352, 353, 354, 356, 358, 359, 360, 362, 364, 366, 367, 368, 370, 372, 373, 374, 376, 378, 379, 380, 382, 383, 384, 386, 388, 389, 390, 392, 394, 396, 397, 398, 400, 401, 402, 404, 406, 408, 409, 410, 412, 414, 416, 418, 419, 420, 421, 422, 424, 426, 428, 430, 431, 432, 433, 434, 436, 438, 439, 440, 442, 443, 444, 446, 448, 449, 450, 452, 454, 456, 457, 458, 460, 461, 462, 463, 464, 466, 467, 468, 470, 472, 474, 476, 478, 479, 480, 482, 484, 486, 487, 488, 490, 491, 492, 494, 496, 498, 499, 500, 502, 503, 504, 506, 508, 509, 510, 512, 514, 516, 518, 520, 521, 522, 523, 524, 526, 528, 530, 532, 534, 536, 538, 540, 541, 542, 544, 546, 548, 550, 552, 554, 556, 558, 560, 562, 564, 566, 568, 570, 572, 574, 576, 578, 580, 582, 584, 586, 588, 590, 592, 594, 596, 598, 600, 602, 604, 606, 608, 610, 612, 614, 616, 618, 620, 622, 624, 626, 628, 630, 632, 634, 636, 638, 640, 642, 644, 646, 648, 650, 652, 654, 656, 658, 660, 662, 664, 666, 668, 670, 672, 674, 676, 678, 680, 682, 684, 686, 688, 690, 692, 694, 696, 698, 700, 702, 704, 706, 708, 710, 712, 714, 716, 718, 720, 722, 724, 726, 728, 730, 732, 734, 736, 738, 740, 742, 744, 746, 748, 750, 752, 754, 756, 758, 760, 762, 764, 766, 768, 770, 772, 774, 776, 778, 780, 782, 784, 786, 788, 790, 792, 794, 796, 798, 800, 802, 804, 806, 808, 810, 812, 814, 816, 818, 820, 822, 824, 826, 828, 830, 832, 834, 836, 838, 840, 842, 844, 846, 848, 850, 852, 854, 856, 858, 860, 862, 864, 866, 868, 870, 872, 874, 876, 878, 880, 882, 884, 886, 888, 890, 892, 894, 896, 898, 900, 902, 904, 906, 908, 910, 912, 914, 916, 918, 920, 922, 924, 926, 928, 930, 932, 934, 936, 938, 940, 942, 944, 946, 948, 950, 952, 954, 956, 958, 960, 962, 964, 966, 968, 970, 972, 974, 976, 978, 980, 982, 984, 986, 988, 990, 992, 994, 996, 998}\n",
      "15\n"
     ]
    }
   ],
   "source": [
    "prime_numbers = prime_number(100)\n",
    "even_num = even_numbers(1,1000)\n",
    "prime_numbers.update(even_num)\n",
    "print(prime_numbers)\n",
    "digits_sum_smaller_than_four_group = digits_sum_smaller_than_four(1, 1000)\n",
    "intersection = prime_numbers.intersection(digits_sum_smaller_than_four_group)\n",
    "print(len(intersection))"
   ]
  },
  {
   "cell_type": "markdown",
   "metadata": {},
   "source": [
    "### <span style=\"text-align: right; direction: rtl; float: right; clear: both;\">בדיקות שייכות</span>"
   ]
  },
  {
   "cell_type": "markdown",
   "metadata": {},
   "source": [
    "<p style=\"text-align: right; direction: rtl; float: right; clear: both;\">\n",
    "    אחת התכונות המועילות ביותר של קבוצות היא שאפשר לבצע בעזרתן בדיקות שייכות במהירות רבה.<br>\n",
    "    בדיוק כמו חיפוש מפתח במילון, בקבוצה אפשר למצוא ערך בתוך זמן קצר מאוד.\n",
    "</p>"
   ]
  },
  {
   "cell_type": "code",
   "execution_count": 144,
   "metadata": {},
   "outputs": [],
   "source": [
    "only_turtles = {'Donatelo', 'Raphael', 'Michelangelo', 'Leonardo'}"
   ]
  },
  {
   "cell_type": "code",
   "execution_count": 145,
   "metadata": {},
   "outputs": [
    {
     "data": {
      "text/plain": [
       "True"
      ]
     },
     "execution_count": 145,
     "metadata": {},
     "output_type": "execute_result"
    }
   ],
   "source": [
    "'Donatelo' in only_turtles"
   ]
  },
  {
   "cell_type": "markdown",
   "metadata": {},
   "source": [
    "<p style=\"text-align: right; direction: rtl; float: right; clear: both;\">\n",
    "    אפשר גם לבדוק אם כל האיברים של קבוצה אחת נמצאים בתוך קבוצה אחרת:\n",
    "</p>"
   ]
  },
  {
   "cell_type": "code",
   "execution_count": 153,
   "metadata": {},
   "outputs": [
    {
     "name": "stdout",
     "output_type": "stream",
     "text": [
      "{'Masaccio', 'Michelangelo', 'Titian', 'Giotto', 'Leonardo', 'Raphael', 'Donatelo'}\n"
     ]
    }
   ],
   "source": [
    "print(italian_artists)"
   ]
  },
  {
   "cell_type": "code",
   "execution_count": 154,
   "metadata": {},
   "outputs": [
    {
     "data": {
      "text/plain": [
       "True"
      ]
     },
     "execution_count": 154,
     "metadata": {},
     "output_type": "execute_result"
    }
   ],
   "source": [
    "only_turtles.issubset(italian_artists)"
   ]
  },
  {
   "cell_type": "markdown",
   "metadata": {},
   "source": [
    "<p style=\"text-align: right; direction: rtl; float: right; clear: both;\">\n",
    "    ולהפך – אם קבוצה מסוימת מכילה את כל איברי הקבוצה השנייה:\n",
    "</p>"
   ]
  },
  {
   "cell_type": "code",
   "execution_count": 155,
   "metadata": {},
   "outputs": [
    {
     "data": {
      "text/plain": [
       "True"
      ]
     },
     "execution_count": 155,
     "metadata": {},
     "output_type": "execute_result"
    }
   ],
   "source": [
    "italian_artists.issuperset(only_turtles)"
   ]
  },
  {
   "cell_type": "markdown",
   "metadata": {},
   "source": [
    "<figure>\n",
    "    <img src=\"images/venn2.svg\" style=\"max-width: 400px; margin-right: auto; margin-left: auto; text-align: center;\" alt=\"בתמונה מופיעים שני עיגולים: עיגול טורקיז גדול, מעליו מופיע הכיתוב 'אומנים איטלקים', ובתוכו עיגול חום קטן, מעליו מופיע הכיתוב 'שמות הצבים'. בעיגול החום נמצאים Donatelo, Leonardo, Michelangelo ו־Raphael, ובעיגול הטורקיז Giotto, Masacccio ו־Titian.\"/>\n",
    "    <figcaption style=\"margin-top: 2rem; text-align: center; direction: rtl;\">דיאגרמת ון שמדגימה ששמות צבי הנינג'ה הם תת־קבוצה של אומנים איטלקים.<br>\n",
    "    אפשר לראות ששטח העיגול של הצבים \"נבלע\" בשטח העיגול של האומנים האיטלקים.</figcaption>\n",
    "</figure>"
   ]
  },
  {
   "cell_type": "markdown",
   "metadata": {},
   "source": [
    "### <span style=\"text-align: right; direction: rtl; float: right; clear: both;\">תרגיל ביניים: מהיר ואמין</span>"
   ]
  },
  {
   "cell_type": "markdown",
   "metadata": {},
   "source": [
    "<p style=\"text-align: right; direction: rtl; float: right; clear: both;\">\n",
    "    בקובץ words.txt ישנה רשימת מילים ארוכה מאוד.<br>\n",
    "</p>"
   ]
  },
  {
   "cell_type": "markdown",
   "metadata": {},
   "source": [
    "<ol style=\"text-align: right; direction: rtl; float: right; clear: both;\">\n",
    "    <li>בנו רשימה בשם <var>words_list</var> מכל המילים המופיעות בקובץ.</li>\n",
    "    <li>בנו קבוצה בשם <var>words_set</var> מכל המילים המופיעות בקובץ.</li>\n",
    "    <li>בנו פונקציה בשם <var>average_runtime</var> למדידת ביצועים, שתעזור לכם להחליט מה מהיר יותר:\n",
    "        <ol>\n",
    "            <li>חפשו 1,000 פעמים את המילה zwitterion בכל אחד ממבני הנתונים שיצרתם.</li>\n",
    "            <li>הפונקציה תחזיר את הזמן ההמוצע שנמשך החיפוש במבנה הנתונים.</li>\n",
    "        </ol>\n",
    "    </li>\n",
    "</ol>"
   ]
  },
  {
   "cell_type": "markdown",
   "metadata": {},
   "source": [
    "<p style=\"text-align: right; direction: rtl; float: right; clear: both;\">\n",
    "    כמה זמן בממוצע נמשך חיפוש המילה ברשימה? ובקבוצה?<br>\n",
    "    רמז: <span style='background: black;'>השתמשו במודול <var>time</var>.</span>\n",
    "</p>"
   ]
  },
  {
   "cell_type": "code",
   "execution_count": 210,
   "metadata": {},
   "outputs": [],
   "source": [
    "words_file = open('resources/words.txt', 'r')\n",
    "words = words_file.read()\n",
    "words_list = words.split(\"\\n\")\n",
    "words_group = set(words_list)"
   ]
  },
  {
   "cell_type": "code",
   "execution_count": 215,
   "metadata": {},
   "outputs": [],
   "source": [
    "import time\n",
    "\n",
    "def average_runtime(x):\n",
    "    start = time.time()\n",
    "    counter = 0\n",
    "    while counter <= 1000:\n",
    "        \"zwitterion\" in x\n",
    "        counter+=1\n",
    "    end = time.time()\n",
    "    elapsed_time = end - start\n",
    "    hours, rem = divmod(elapsed_time, 3600)\n",
    "    minutes, seconds = divmod(rem, 60)\n",
    "    print(\"{:0>2}:{:0>2}:{:05.2f}\".format(int(hours),int(minutes),seconds))    "
   ]
  },
  {
   "cell_type": "code",
   "execution_count": 216,
   "metadata": {},
   "outputs": [
    {
     "name": "stdout",
     "output_type": "stream",
     "text": [
      "00:00:05.64\n"
     ]
    }
   ],
   "source": [
    "average_runtime(words_list)\n"
   ]
  },
  {
   "cell_type": "code",
   "execution_count": 217,
   "metadata": {},
   "outputs": [
    {
     "name": "stdout",
     "output_type": "stream",
     "text": [
      "00:00:00.00\n"
     ]
    }
   ],
   "source": [
    "average_runtime(words_group)"
   ]
  },
  {
   "cell_type": "markdown",
   "metadata": {},
   "source": [
    "### <span style=\"text-align: right; direction: rtl; float: right; clear: both;\">אופרטורים בין קבוצות</span>"
   ]
  },
  {
   "cell_type": "markdown",
   "metadata": {},
   "source": [
    "<p style=\"text-align: right; direction: rtl; float: right; clear: both;\">\n",
    "    לעיתים יהיה לנו נוח יותר להשתמש באופרטורים במקום בפעולות.<br>\n",
    "    לדוגמה, הפעולה של חיתוך בין שמות הדמויות בצבי הנינג'ה לשמות האומנים האיטלקים שנעשתה כך:\n",
    "</p>"
   ]
  },
  {
   "cell_type": "code",
   "execution_count": 194,
   "metadata": {},
   "outputs": [
    {
     "data": {
      "text/plain": [
       "{'Donatelo', 'Leonardo', 'Michelangelo', 'Raphael'}"
      ]
     },
     "execution_count": 194,
     "metadata": {},
     "output_type": "execute_result"
    }
   ],
   "source": [
    "italian_artists.intersection(ninja_turtles_characters)"
   ]
  },
  {
   "cell_type": "markdown",
   "metadata": {},
   "source": [
    "<p style=\"text-align: right; direction: rtl; float: right; clear: both;\">\n",
    "    יכולה להיעשות גם כך:\n",
    "</p>"
   ]
  },
  {
   "cell_type": "code",
   "execution_count": 195,
   "metadata": {},
   "outputs": [
    {
     "data": {
      "text/plain": [
       "{'Donatelo', 'Leonardo', 'Michelangelo', 'Raphael'}"
      ]
     },
     "execution_count": 195,
     "metadata": {},
     "output_type": "execute_result"
    }
   ],
   "source": [
    "italian_artists & ninja_turtles_characters"
   ]
  },
  {
   "cell_type": "markdown",
   "metadata": {},
   "source": [
    "<p style=\"text-align: right; direction: rtl; float: right; clear: both;\">\n",
    "    השימוש באופרטורים בין קבוצות יכול לקצר את הכתיבה ולשוות לה מראה נקי יותר.<br>\n",
    "    ריכזנו עבורכם אופרטורים שבהם משתמשים תדיר כשעובדים עם קבוצות:\n",
    "</p>"
   ]
  },
  {
   "cell_type": "markdown",
   "metadata": {},
   "source": [
    "<table style=\"text-align: right; direction: rtl; clear: both; font-size: 1.3rem\">\n",
    "    <caption style=\"text-align: center; direction: rtl; clear: both; font-size: 2rem; padding-bottom: 2rem;\">אופרטורים בין קבוצות</caption>\n",
    "    <thead>\n",
    "        <tr>\n",
    "            <th>שם פעולה</th>\n",
    "            <th>שם הפעולה בפייתון</th>\n",
    "            <th>אופרטור</th>\n",
    "            <th>דוגמה</th>\n",
    "        </tr>\n",
    "    </thead>\n",
    "    <tbody>\n",
    "        <tr>\n",
    "            <td>איחוד</td>\n",
    "            <td>union</td>\n",
    "            <td><code>|</code></td>\n",
    "            <td><code dir=\"ltr\">{1, 3, 5} | {1, 2, 3}</code> מחזיר <code dir=\"ltr\">{1, 2, 3, 5}</code></td>\n",
    "        </tr>\n",
    "        <tr>\n",
    "            <td>חיתוך</td>\n",
    "            <td>intersection</td>\n",
    "            <td><code>&</code></td>\n",
    "            <td><code dir=\"ltr\">{1, 3, 5} & {1, 2, 3}</code> מחזיר <code dir=\"ltr\">{1, 3}</code></td>\n",
    "        </tr>\n",
    "        <tr>\n",
    "            <td>הפרש</td>\n",
    "            <td>difference</td>\n",
    "            <td><code>-</code></td>\n",
    "            <td>\n",
    "                <code dir=\"ltr\">{1, 3, 5} - {1, 2, 3}</code> מחזיר <code dir=\"ltr\">{5}</code><br>\n",
    "                <code dir=\"ltr\">{1, 2, 3} - {1, 3, 5}</code> מחזיר <code dir=\"ltr\">{2}</code>\n",
    "            </td>\n",
    "        </tr>\n",
    "        <tr>\n",
    "            <td>הפרש סימטרי</td>\n",
    "            <td>symmetric_difference</td>\n",
    "            <td><code>^</code></td>\n",
    "            <td><code dir=\"ltr\">{1, 2, 3} ^ {1, 3, 5}</code> מחזיר <code dir=\"ltr\">{2, 5}</code></td>\n",
    "        </tr>\n",
    "        <tr>\n",
    "            <td>בדיקת שייכות/הכלה</td>\n",
    "            <td>issubset/issuperset</td>\n",
    "            <td><code dir=\"ltr\">&lt;=</code></td>\n",
    "            <td>\n",
    "                <code dir=\"ltr\">{1, 2, 3} &lt;= {1, 3, 5}</code> מחזיר <code>False</code><br>\n",
    "                <code dir=\"ltr\">{1, 2, 3} &lt;= {1, 2, 3, 4, 5}</code> מחזיר <code>True</code>\n",
    "            </td>\n",
    "        </tr>\n",
    "    </tbody>\n",
    "</table>"
   ]
  },
  {
   "cell_type": "markdown",
   "metadata": {},
   "source": [
    "<p style=\"text-align: right; direction: rtl; float: right; clear: both;\">\n",
    "    שימו לב לכך שאופרטורים בין קבוצות לרוב יוצרים קבוצה חדשה.<br>\n",
    "    במקרה שאנחנו יכולים לשנות קבוצה קיימת ולנצל את היותה של קבוצה mutable, נעדיף לבחור בדרך הפעולה הזו כדי לייעל את התוכנית שלנו.<br>\n",
    "</p>"
   ]
  },
  {
   "cell_type": "markdown",
   "metadata": {},
   "source": [
    "<p style=\"text-align: right; direction: rtl; float: right; clear: both;\">\n",
    "    כך, לדוגמה, הוספת איברים לקבוצה בצורה הזו:\n",
    "</p>"
   ]
  },
  {
   "cell_type": "code",
   "execution_count": 196,
   "metadata": {},
   "outputs": [
    {
     "name": "stdout",
     "output_type": "stream",
     "text": [
      "{2, 3, 5, 7, 11, 13, 17, 19}\n"
     ]
    }
   ],
   "source": [
    "primes = {2, 3, 5, 7}\n",
    "primes_to_add = {11, 13, 17, 19}\n",
    "primes.update(primes_to_add)\n",
    "print(primes)"
   ]
  },
  {
   "cell_type": "markdown",
   "metadata": {},
   "source": [
    "<p style=\"text-align: right; direction: rtl; float: right; clear: both;\">\n",
    "    עדיפה על הצורה הזו:\n",
    "</p>"
   ]
  },
  {
   "cell_type": "code",
   "execution_count": 197,
   "metadata": {},
   "outputs": [
    {
     "name": "stdout",
     "output_type": "stream",
     "text": [
      "{2, 3, 5, 7, 11, 13, 17, 19}\n"
     ]
    }
   ],
   "source": [
    "primes = {2, 3, 5, 7}\n",
    "primes_to_add = {11, 13, 17, 19}\n",
    "primes = primes | primes_to_add\n",
    "print(primes)"
   ]
  },
  {
   "cell_type": "markdown",
   "metadata": {},
   "source": [
    "## <span style=\"text-align: right; direction: rtl; float: right; clear: both;\">תרגיל לדוגמה</span>"
   ]
  },
  {
   "cell_type": "markdown",
   "metadata": {},
   "source": [
    "<p style=\"text-align: right; direction: rtl; float: right; clear: both;\">\n",
    "    כתבו פונקציה שמקבלת נתיב ל־2 תיקיות, ומחזירה שמות של קבצים שמופיעים בשתי התיקיות.\n",
    "</p>"
   ]
  },
  {
   "cell_type": "code",
   "execution_count": 198,
   "metadata": {},
   "outputs": [
    {
     "ename": "FileNotFoundError",
     "evalue": "[WinError 3] The system cannot find the path specified: 'resources/week05_images'",
     "output_type": "error",
     "traceback": [
      "\u001b[1;31m---------------------------------------------------------------------------\u001b[0m",
      "\u001b[1;31mFileNotFoundError\u001b[0m                         Traceback (most recent call last)",
      "\u001b[1;32m<ipython-input-198-6e05481cd03c>\u001b[0m in \u001b[0;36m<module>\u001b[1;34m\u001b[0m\n\u001b[0;32m     13\u001b[0m \u001b[1;33m\u001b[0m\u001b[0m\n\u001b[0;32m     14\u001b[0m \u001b[1;33m\u001b[0m\u001b[0m\n\u001b[1;32m---> 15\u001b[1;33m \u001b[0mcommon_filenames\u001b[0m\u001b[1;33m(\u001b[0m\u001b[1;34m'images'\u001b[0m\u001b[1;33m,\u001b[0m \u001b[1;34m'resources/week05_images'\u001b[0m\u001b[1;33m)\u001b[0m\u001b[1;33m\u001b[0m\u001b[1;33m\u001b[0m\u001b[0m\n\u001b[0m",
      "\u001b[1;32m<ipython-input-198-6e05481cd03c>\u001b[0m in \u001b[0;36mcommon_filenames\u001b[1;34m(path1, path2)\u001b[0m\n\u001b[0;32m      9\u001b[0m \u001b[1;32mdef\u001b[0m \u001b[0mcommon_filenames\u001b[0m\u001b[1;33m(\u001b[0m\u001b[0mpath1\u001b[0m\u001b[1;33m,\u001b[0m \u001b[0mpath2\u001b[0m\u001b[1;33m)\u001b[0m\u001b[1;33m:\u001b[0m\u001b[1;33m\u001b[0m\u001b[1;33m\u001b[0m\u001b[0m\n\u001b[0;32m     10\u001b[0m     \u001b[0mpath1_files\u001b[0m \u001b[1;33m=\u001b[0m \u001b[0mset\u001b[0m\u001b[1;33m(\u001b[0m\u001b[0mget_filenames\u001b[0m\u001b[1;33m(\u001b[0m\u001b[0mpath1\u001b[0m\u001b[1;33m)\u001b[0m\u001b[1;33m)\u001b[0m\u001b[1;33m\u001b[0m\u001b[1;33m\u001b[0m\u001b[0m\n\u001b[1;32m---> 11\u001b[1;33m     \u001b[0mpath2_files\u001b[0m \u001b[1;33m=\u001b[0m \u001b[0mset\u001b[0m\u001b[1;33m(\u001b[0m\u001b[0mget_filenames\u001b[0m\u001b[1;33m(\u001b[0m\u001b[0mpath2\u001b[0m\u001b[1;33m)\u001b[0m\u001b[1;33m)\u001b[0m\u001b[1;33m\u001b[0m\u001b[1;33m\u001b[0m\u001b[0m\n\u001b[0m\u001b[0;32m     12\u001b[0m     \u001b[1;32mreturn\u001b[0m \u001b[0mpath1_files\u001b[0m \u001b[1;33m&\u001b[0m \u001b[0mpath2_files\u001b[0m\u001b[1;33m\u001b[0m\u001b[1;33m\u001b[0m\u001b[0m\n\u001b[0;32m     13\u001b[0m \u001b[1;33m\u001b[0m\u001b[0m\n",
      "\u001b[1;32m<ipython-input-198-6e05481cd03c>\u001b[0m in \u001b[0;36mget_filenames\u001b[1;34m(path)\u001b[0m\n\u001b[0;32m      3\u001b[0m \u001b[1;33m\u001b[0m\u001b[0m\n\u001b[0;32m      4\u001b[0m \u001b[1;32mdef\u001b[0m \u001b[0mget_filenames\u001b[0m\u001b[1;33m(\u001b[0m\u001b[0mpath\u001b[0m\u001b[1;33m)\u001b[0m\u001b[1;33m:\u001b[0m\u001b[1;33m\u001b[0m\u001b[1;33m\u001b[0m\u001b[0m\n\u001b[1;32m----> 5\u001b[1;33m     \u001b[1;32mfor\u001b[0m \u001b[0mfile\u001b[0m \u001b[1;32min\u001b[0m \u001b[0mos\u001b[0m\u001b[1;33m.\u001b[0m\u001b[0mscandir\u001b[0m\u001b[1;33m(\u001b[0m\u001b[0mpath\u001b[0m\u001b[1;33m)\u001b[0m\u001b[1;33m:\u001b[0m\u001b[1;33m\u001b[0m\u001b[1;33m\u001b[0m\u001b[0m\n\u001b[0m\u001b[0;32m      6\u001b[0m         \u001b[1;32myield\u001b[0m \u001b[0mfile\u001b[0m\u001b[1;33m.\u001b[0m\u001b[0mname\u001b[0m\u001b[1;33m\u001b[0m\u001b[1;33m\u001b[0m\u001b[0m\n\u001b[0;32m      7\u001b[0m \u001b[1;33m\u001b[0m\u001b[0m\n",
      "\u001b[1;31mFileNotFoundError\u001b[0m: [WinError 3] The system cannot find the path specified: 'resources/week05_images'"
     ]
    }
   ],
   "source": [
    "import os\n",
    "\n",
    "\n",
    "def get_filenames(path):\n",
    "    for file in os.scandir(path):\n",
    "        yield file.name\n",
    "\n",
    "\n",
    "def common_filenames(path1, path2):\n",
    "    path1_files = set(get_filenames(path1))\n",
    "    path2_files = set(get_filenames(path2))\n",
    "    return path1_files & path2_files\n",
    "\n",
    "\n",
    "common_filenames('images', 'resources/week05_images')"
   ]
  },
  {
   "cell_type": "markdown",
   "metadata": {},
   "source": [
    "## <span style=\"text-align: right; direction: rtl; float: right; clear: both;\">תרגילים</span>"
   ]
  },
  {
   "cell_type": "markdown",
   "metadata": {},
   "source": [
    "### <span style=\"text-align: right; direction: rtl; float: right; clear: both;\">חזרת</span>"
   ]
  },
  {
   "cell_type": "markdown",
   "metadata": {},
   "source": [
    "<p style=\"text-align: right; direction: rtl; float: right; clear: both;\">\n",
    "    כתבו פונקציה בשם <var>uniquify</var> שמקבלת רשימה של איברים, ומחזירה רשימה של אותם איברים וללא כפילויות.<br>\n",
    "    הניחו שאיברי כל הרשימה הם immutable.\n",
    "</p>"
   ]
  },
  {
   "cell_type": "code",
   "execution_count": 199,
   "metadata": {},
   "outputs": [],
   "source": [
    "def uniquify(l):\n",
    "    set_of_l = set(l)\n",
    "    return list(set_of_l)\n",
    "    "
   ]
  },
  {
   "cell_type": "code",
   "execution_count": 200,
   "metadata": {},
   "outputs": [
    {
     "data": {
      "text/plain": [
       "[1, 322, 3, 5, 6, 8, 23]"
      ]
     },
     "execution_count": 200,
     "metadata": {},
     "output_type": "execute_result"
    }
   ],
   "source": [
    "uniquify([1,3,5,6,8,5,8,322,23,5,6])"
   ]
  },
  {
   "cell_type": "markdown",
   "metadata": {},
   "source": [
    "### <span style=\"text-align: right; direction: rtl; float: right; clear: both;\">ספירת מלאי</span>"
   ]
  },
  {
   "cell_type": "markdown",
   "metadata": {},
   "source": [
    "<p style=\"text-align: right; direction: rtl; float: right; clear: both;\">\n",
    "    כתבו פונקציה בשם <var>count_specials</var> שמקבלת מספר שלם חיובי $n$.<br>\n",
    "    הפונקציה תחזיר את מספר המספרים החיוביים הנמוכים מ־$n$, שמתחלקים ב־3 או ב־7 ללא שארית.<br>\n",
    "    לדוגמה, עבור $n=22$, המספרים הם: 3, 6, 7, 9, 12, 14, 15, 18 ו־21. במקרה כזה הפונקציה תחזיר 9.\n",
    "</p>\n",
    "<p style=\"text-align: right; direction: rtl; float: right; clear: both;\">\n",
    "    ודאו שאתם משתמשים ב־set בפתרון התרגיל.\n",
    "</p>"
   ]
  },
  {
   "cell_type": "code",
   "execution_count": 203,
   "metadata": {},
   "outputs": [],
   "source": [
    "def count_specials(n):\n",
    "    num = 0\n",
    "    l =[]\n",
    "    while num < n:\n",
    "        if num%3 == 0:\n",
    "            l.append(num)\n",
    "        if num%7 == 0:\n",
    "            l.append(num)\n",
    "        num+=1\n",
    "    numbers = set(l)\n",
    "    return numbers"
   ]
  },
  {
   "cell_type": "code",
   "execution_count": 204,
   "metadata": {},
   "outputs": [
    {
     "data": {
      "text/plain": [
       "{0, 3, 6, 7, 9, 12, 14, 15, 18, 21}"
      ]
     },
     "execution_count": 204,
     "metadata": {},
     "output_type": "execute_result"
    }
   ],
   "source": [
    "count_specials(22)"
   ]
  },
  {
   "cell_type": "markdown",
   "metadata": {},
   "source": [
    "### <span style=\"text-align: right; direction: rtl; float: right; clear: both;\">שטוחלנדיה</span>"
   ]
  },
  {
   "cell_type": "markdown",
   "metadata": {},
   "source": [
    "<p style=\"text-align: right; direction: rtl; float: right; clear: both;\">\n",
    "    בפריסת מקלדת סטנדרטית ישנן 3 שורות של מקשי אותיות.<br>\n",
    "    האותיות שנמצאות בפינת המקלדת השמאלית־עליונה מרכיבות את הצירוף qwerty.<br>\n",
    "    מבין שמות כל המדינות בארצות הברית, ישנו רק שם מדינה אחד שאפשר לכתוב בעזרת שורה אחת בלבד במקלדת.<br>\n",
    "</p>"
   ]
  },
  {
   "cell_type": "markdown",
   "metadata": {},
   "source": [
    "<p style=\"text-align: right; direction: rtl; float: right; clear: both;\">\n",
    "    קראו את שמות כל המדינות בארצות־הברית מהקובץ resources/states.txt.<br>\n",
    "    כתבו פונקציה בשם <var>find_special_state</var>.<br>\n",
    "    הפונקציה תחזיר את שם המדינה שאפשר להרכיב בעזרת האותיות המופיעות באותה השורה במקלדת.\n",
    "</p>"
   ]
  },
  {
   "cell_type": "markdown",
   "metadata": {},
   "source": [
    "<p style=\"text-align: right; direction: rtl; float: right; clear: both;\">\n",
    "    לדוגמה, potter או hash הן מילים שנכתבו בעזרת שורה אחת במקלדת.<br>\n",
    "    turtle נכתבה בעזרת 2 שורות, ו־ninja נכתבה בעזרת 3 שורות.\n",
    "</p>"
   ]
  },
  {
   "cell_type": "code",
   "execution_count": 226,
   "metadata": {},
   "outputs": [
    {
     "name": "stdout",
     "output_type": "stream",
     "text": [
      "['alabama', 'alaska', 'arizona', 'arkansas', 'california', 'colorado', 'connecticut', 'delaware', 'florida', 'georgia', 'hawaii', 'idaho', 'illinois', 'indiana', 'iowa', 'kansas', 'kentucky', 'louisiana', 'maine', 'maryland', 'massachusetts', 'michigan', 'minnesota', 'mississippi', 'missouri', 'montana', 'nebraska', 'nevada', 'new hampshire', 'new jersey', 'new mexico', 'new york', 'north carolina', 'north dakota', 'ohio', 'oklahoma', 'oregon', 'pennsylvania', 'rhode island', 'south carolina', 'south dakota', 'tennessee', 'texas', 'utah', 'vermont', 'virginia', 'washington', 'west virginia', 'wisconsin', 'wyoming']\n"
     ]
    }
   ],
   "source": [
    "states_file = open('resources/states.txt', 'r')\n",
    "states = states_file.read()\n",
    "states = states.split(\"\\n\")\n",
    "print(states)"
   ]
  },
  {
   "cell_type": "code",
   "execution_count": 236,
   "metadata": {},
   "outputs": [],
   "source": [
    "def find_special_state(states):\n",
    "    first = {\"q\",\"w\",\"e\",\"r\",\"t\",\"y\",\"u\",\"i\",\"o\",\"p\"}\n",
    "    second = {\"a\",\"s\",\"d\",\"f\",\"g\",\"h\",\"j\",\"k\",\"l\"}\n",
    "    theird = {\"z\",\"x\",\"c\",\"v\",\"b\",\"n\",\"m\"}\n",
    "    for state in states:\n",
    "        s = set()\n",
    "        for letter in state:\n",
    "            if letter in first:\n",
    "                s.add(\"1\")\n",
    "            if letter in second:\n",
    "                s.add(\"2\") \n",
    "            if letter in theird:\n",
    "                s.add(\"3\")\n",
    "        if len(s) == 1:\n",
    "            print(state)"
   ]
  },
  {
   "cell_type": "code",
   "execution_count": 237,
   "metadata": {},
   "outputs": [
    {
     "name": "stdout",
     "output_type": "stream",
     "text": [
      "alaska\n"
     ]
    }
   ],
   "source": [
    "find_special_state(states)"
   ]
  }
 ],
 "metadata": {
  "kernelspec": {
   "display_name": "Python 3",
   "language": "python",
   "name": "python3"
  },
  "language_info": {
   "codemirror_mode": {
    "name": "ipython",
    "version": 3
   },
   "file_extension": ".py",
   "mimetype": "text/x-python",
   "name": "python",
   "nbconvert_exporter": "python",
   "pygments_lexer": "ipython3",
   "version": "3.8.5"
  }
 },
 "nbformat": 4,
 "nbformat_minor": 2
}
