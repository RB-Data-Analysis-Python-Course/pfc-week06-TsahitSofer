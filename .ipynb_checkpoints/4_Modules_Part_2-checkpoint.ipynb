{
 "cells": [
  {
   "cell_type": "markdown",
   "metadata": {},
   "source": [
    "<img src=\"images/logo.jpg\" style=\"display: block; margin-left: auto; margin-right: auto;\" alt=\"לוגו של מיזם לימוד הפייתון. נחש מצויר בצבעי צהוב וכחול, הנע בין האותיות של שם הקורס: לומדים פייתון. הסלוגן המופיע מעל לשם הקורס הוא מיזם חינמי ללימוד תכנות בעברית.\">"
   ]
  },
  {
   "cell_type": "markdown",
   "metadata": {},
   "source": [
    "# <span style=\"text-align: right; direction: rtl; float: right;\">Modules – חלק 2</span>"
   ]
  },
  {
   "cell_type": "markdown",
   "metadata": {},
   "source": [
    "## <span style=\"text-align: right; direction: rtl; float: right; clear: both;\">הקדמה</span>"
   ]
  },
  {
   "cell_type": "markdown",
   "metadata": {},
   "source": [
    "<p style=\"text-align: right; direction: rtl; float: right; clear: both;\">\n",
    "    בשבוע שעבר עשינו את צעדינו הראשונים בעולם המודולים.<br>\n",
    "    למדנו את הרעיון העומד מאחוריהם, כיצד לייבא אותם, איפה למצוא עליהם מידע וכיצד להשתמש בהם.<br>\n",
    "    השתמשנו במודולים שמגיעים עם פייתון, כמו <var>math</var>, <var>random</var> או <var>datetime</var>, ופתרנו בעזרתם בעיות מורכבות.\n",
    "</p>"
   ]
  },
  {
   "cell_type": "markdown",
   "metadata": {},
   "source": [
    "<p style=\"text-align: right; direction: rtl; float: right; clear: both;\">\n",
    "    ישנם יתרונות רבים לשימוש במודולים המובנים בפייתון:<br>\n",
    "    הם מקלים עלינו בפתרון בעיות מורכבות, מכסים מקרי קצה רבים ומתוחזקים היטב.<br>\n",
    "    מעבר לכך, השימוש בהם נפוץ מאוד בקהילת מפתחי הפייתון, ולכן התמיכה בהם ברשת רחבה.<br>\n",
    "    רשימת המודולים שמגיעים עם פייתון נמצאת <a href=\"https://docs.python.org/3/py-modindex.html\">באתר התיעוד הרשמי של פייתון</a>, וכל מודול ברשימה מתועד לעילא ולעילא.<br>\n",
    "</p>"
   ]
  },
  {
   "cell_type": "markdown",
   "metadata": {},
   "source": [
    "<p style=\"text-align: right; direction: rtl; float: right; clear: both;\">\n",
    "    אך ישנם גם חסרונות למודולים המובנים בפייתון:<br>\n",
    "    הם לא מתיימרים לפתור בעיות איזוטריות, כמו קריאת חדשות או פתירת קוביות הונגריות.<br>\n",
    "    יתרה מזאת, המודולים מתעדכנים לעיתים רחוקות, חלקם מפגרים אחר קצב החידושים בעולם,<br>\n",
    "    ועבור חלקם הקהילה מפתחת אלטרנטיבה טובה יותר.\n",
    "</p>"
   ]
  },
  {
   "cell_type": "markdown",
   "metadata": {},
   "source": [
    "<p style=\"text-align: right; direction: rtl; float: right; clear: both;\">\n",
    "    בפרק זה נלמד על מודולים שנוצרו על ידי צד שלישי – מתכנתים כמוכם.<br>\n",
    "    לאורך המחברת הזו נבין איך מוצאים אותם, איך מתקינים אותם ואיך משתמשים בהם.\n",
    "</p>"
   ]
  },
  {
   "cell_type": "markdown",
   "metadata": {},
   "source": [
    "## <span style=\"text-align: right; direction: rtl; float: right; clear: both;\">איתור מודול</span>"
   ]
  },
  {
   "cell_type": "markdown",
   "metadata": {},
   "source": [
    "<p style=\"text-align: right; direction: rtl; float: right; clear: both;\">\n",
    "    בדרך כלל המסע שלנו יתחיל כאשר ניתקל בבעיה שגורמת לנו לשבור את הראש –<br>\n",
    "    מאחר שהיא מורכבת מאוד או שיש לה מקרי קצה רבים מאוד.<br>\n",
    "    זו גם יכולה להיות בעיה שכנראה כבר פתרו בעבר ושייקח לנו זמן לממש בעצמנו.\n",
    "</p>"
   ]
  },
  {
   "cell_type": "markdown",
   "metadata": {},
   "source": [
    "<p style=\"text-align: right; direction: rtl; float: right; clear: both;\">\n",
    "    נניח שאנחנו בונים פרויקט קטן משלנו – מילון אינטרנטי שמציג למשתמש את פירוש המילה שהוא מקליד.<br>\n",
    "    אנחנו רוצים שכשמחפשים מילה במילון שלנו – אחת התוצאות תהיה תקציר מוויקיפדיה.<br>\n",
    "    כרגע אין לנו די ידע כדי לממש שליפת מידע מוויקיפדיה, אבל אין סיבה שזה ירתיע אותנו!\n",
    "</p>"
   ]
  },
  {
   "cell_type": "markdown",
   "metadata": {},
   "source": [
    "<p style=\"text-align: right; direction: rtl; float: right; clear: both;\">\n",
    "    המקום הראשון שנפנה אליו הוא מנוע החיפוש המועדף עליכם.<br>\n",
    "    נחפש מודול שמתעסק בוויקיפדיה: <q>python module wikipedia</q>, וננסה לקבל מושג על מודולים שעשויים לעזור לנו:\n",
    "</p>"
   ]
  },
  {
   "cell_type": "markdown",
   "metadata": {},
   "source": [
    "<figure>\n",
    "    <img src=\"images/google_module_search.png\" style=\"max-width: 500px; margin-right: auto; margin-left: auto; text-align: center;\" alt=\"4 תוצאות בגוגל. הראשונה: wikipedia - PyPI. השנייה, ערך בוויקיפדיה על פייתון. השלישית, סיכום על מודול wikipedia באתר Stack Abuse. הרביעית – אתר ובו תיעוד רשמי של מודול בשם wikipedia.\"/>\n",
    "    <figcaption style=\"margin-top: 2rem; text-align: center; direction: rtl;\">תוצאות החיפוש שהופיעו לנו בגוגל כשחיפשנו <q>python module wikipedia</q></figcaption>\n",
    "</figure>"
   ]
  },
  {
   "cell_type": "markdown",
   "metadata": {},
   "source": [
    "<p style=\"text-align: right; direction: rtl; float: right; clear: both;\">\n",
    "    הקישור הראשון שהתקבל בתוצאות החיפוש מוביל אותנו לאתר שנקרא <dfn>PyPI</dfn>, או בשמו המלא – Python Package Index.<br>\n",
    "    זהו האתר הרשמי של פייתון לאחסון חבילות (שאנחנו מכירים כ\"מודולים\") – מאגר גדול שבו חבילות מכל סוג וצורה.<br>\n",
    "    בבסיסו, PyPI הוא מקום ריכוזי שאליו משתמשים יכולים להעלות חבילות שיצרו, וממנו ציבור המתכנתים יכול להוריד חבילות ולהשתמש בהן.<br>\n",
    "    נכון לכתיבת מילים אלו, ל־PyPI הועלו יותר מ־235,000 חבילות.<br>\n",
    "</p>"
   ]
  },
  {
   "cell_type": "markdown",
   "metadata": {},
   "source": [
    "<p style=\"text-align: right; direction: rtl; float: right; clear: both;\">\n",
    "    ישנו הבדל בין משמעות המונח \"<em>חבילה</em>\" (<i>Package</i>) לבין משמעות המונח \"<em>מודול</em>\" (<i>Module</i>).<br>\n",
    "    נסביר את ההבדל בין המילים באחד השבועות הבאים. עד אז – נתייחס אליהן כאל מילים נרדפות.\n",
    "</p>"
   ]
  },
  {
   "cell_type": "markdown",
   "metadata": {},
   "source": [
    "<p style=\"text-align: right; direction: rtl; float: right; clear: both;\">\n",
    "    נכנס <a href=\"https://pypi.org/project/wikipedia/\">לקישור</a> שהופיע בתוצאות החיפוש, ונביט על דף המודול <var>wikipedia</var> באתר PyPI:\n",
    "</p>"
   ]
  },
  {
   "cell_type": "markdown",
   "metadata": {},
   "source": [
    "<figure>\n",
    "    <img src=\"images/pypi_wikipedia.png\" style=\"max-width: 500px; margin-right: auto; margin-left: auto; text-align: center;\" alt=\"תמונת מסך של העמוד של המודול wikipedia ב־PyPI, מהכתובת https://pypi.org/project/wikipedia/ בתאריך 2020-05-22.\"/>\n",
    "    <figcaption style=\"margin-top: 2rem; text-align: center; direction: rtl;\">דף המודול <var>wikipedia</var> באתר PyPI.</figcaption>\n",
    "</figure>"
   ]
  },
  {
   "cell_type": "markdown",
   "metadata": {},
   "source": [
    "<p style=\"text-align: right; direction: rtl; float: right; clear: both;\">\n",
    "    במרכז האתר נוכל לראות פירוט קצר על החבילה, ולעיתים יופיעו הוראות התקנה ודוגמאות קוד המדריכות כיצד לעבוד איתה.<br>\n",
    "    מדובר במידע שימושי שכדאי לעיין בו – <br>\n",
    "    פעמים רבות נמצא בו קישורים רלוונטיים, או דוגמאות שנותנות מושג על נוחות השימוש בחבילה לצורכנו.\n",
    "</p>"
   ]
  },
  {
   "cell_type": "markdown",
   "metadata": {},
   "source": [
    "<p style=\"text-align: right; direction: rtl; float: right; clear: both;\">\n",
    "    בצד ימין למעלה נוכל למצוא את תאריך העדכון האחרון של החבילה – במקרה שלנו, לפני 6 שנים, ב־2014.<br>\n",
    "    מדובר בתאריך ישן וברור שהחבילה אינה מתוחזקת.<br>\n",
    "    נעדיף שלא לבחור חבילות כאלו לצורכי פרויקטים גדולים שאנחנו מתכוונים לתחזק לאורך זמן.<br>\n",
    "    לרוב נעדיף חבילות עם סביבת תמיכה כמה שיותר מבוססת, וכאלו שעבורן משוחררים תיקונים ועדכונים שיוצאים תדיר.\n",
    "</p>"
   ]
  },
  {
   "cell_type": "markdown",
   "metadata": {},
   "source": [
    "<p style=\"text-align: right; direction: rtl; float: right; clear: both;\">\n",
    "    בצד שמאל נוכל לראות נתונים שמעידים, בין היתר, על הפופולריות של הפרויקט.<br>\n",
    "    מדד הכוכבים הוא למעשה כמות ה\"לייקים\" שהפרויקט קיבל בפלטפורמה לניהול קוד בשם GitHub.<br>\n",
    "    לרוב נעדיף לבחור בספריות שצברו כמה מאות כוכבים. לזו יש כמעט 2,000, מספר לא רע בכלל.\n",
    "</p>"
   ]
  },
  {
   "cell_type": "markdown",
   "metadata": {},
   "source": [
    "## <span style=\"text-align: right; direction: rtl; float: right; clear: both;\">התקנת החבילה</span>"
   ]
  },
  {
   "cell_type": "markdown",
   "metadata": {},
   "source": [
    "<p style=\"text-align: right; direction: rtl; float: right; clear: both;\">\n",
    "    המודול הזה נראה טוב דיו לצורכנו, והחלטנו להשתמש בו.<br>\n",
    "    אם ננסה לייבא אותו, נקבל שגיאה:\n",
    "</p>"
   ]
  },
  {
   "cell_type": "code",
   "execution_count": 1,
   "metadata": {},
   "outputs": [
    {
     "ename": "ModuleNotFoundError",
     "evalue": "No module named 'wikipedia'",
     "output_type": "error",
     "traceback": [
      "\u001b[1;31m---------------------------------------------------------------------------\u001b[0m",
      "\u001b[1;31mModuleNotFoundError\u001b[0m                       Traceback (most recent call last)",
      "\u001b[1;32m<ipython-input-1-743b025fe736>\u001b[0m in \u001b[0;36m<module>\u001b[1;34m\u001b[0m\n\u001b[1;32m----> 1\u001b[1;33m \u001b[1;32mimport\u001b[0m \u001b[0mwikipedia\u001b[0m\u001b[1;33m\u001b[0m\u001b[1;33m\u001b[0m\u001b[0m\n\u001b[0m",
      "\u001b[1;31mModuleNotFoundError\u001b[0m: No module named 'wikipedia'"
     ]
    }
   ],
   "source": [
    "import wikipedia"
   ]
  },
  {
   "cell_type": "markdown",
   "metadata": {},
   "source": [
    "<p style=\"text-align: right; direction: rtl; float: right; clear: both;\">\n",
    "    זה מובן. פייתון מן הסתם לא יכולה להגיע עם כל ה־235,000 מודולים שפרסמה הקהילה.<br>\n",
    "    אם כך, נצטרך לבחור אילו מודולים אנחנו רוצים להתקין, ולהתקין אותם לפני שנוכל להשתמש בהם.\n",
    "</p>"
   ]
  },
  {
   "cell_type": "markdown",
   "metadata": {},
   "source": [
    "<p style=\"text-align: right; direction: rtl; float: right; clear: both;\">\n",
    "    תהליך ההתקנה הוא לרוב פשוט ולא דורש מאמץ רב.<br>\n",
    "    פייתון מגיעה עם כלי שנקרא <dfn><abbr title=\"Pip Installs Packages\">pip</abbr></dfn>, שמשמש להתקנה של חבילות חיצוניות ולניהולן.<br>\n",
    "    כדי להשתמש בו, פתחו את שורת הפקודה במחשב שלכם.\n",
    "</p>"
   ]
  },
  {
   "cell_type": "markdown",
   "metadata": {},
   "source": [
    "<p style=\"text-align: right; direction: rtl; float: right; clear: both;\">\n",
    "    כדי לפתוח את שורת הפקודה במערכת ההפעלה חלונות, לחצו על <span dir=\"ltr\"><kbd dir=\"ltr\">⊞ WinKey</kbd>+<kbd dir=\"ltr\">R</kbd></span> במקלדת.<br>\n",
    "    הלחצן <kbd dir=\"ltr\">⊞ WinKey</kbd> מופיע בין כפתור ה־<kbd>ALT</kbd> לכפתור ה־<kbd>CTRL</kbd> בצד השמאלי התחתון של המקלדת.<br>\n",
    "    בחלון הקטן שייפתח לכם, הקישו <q><em>cmd</em></q> ולחצו <kbd dir=\"ltr\">⏎ Enter</kbd>.<br>\n",
    "    בשלב זה אמור להופיע לכם על המסך חלון שחור. זוהי שורת הפקודה.\n",
    "</p>"
   ]
  },
  {
   "cell_type": "markdown",
   "metadata": {},
   "source": [
    "<p style=\"text-align: right; direction: rtl; float: right; clear: both;\">\n",
    "    כדי לפתוח את שורת הפקודה במערכת Mac, לחצו על <span dir=\"ltr\"><kbd dir=\"ltr\">cmd ⌘</kbd>+<kbd dir=\"ltr\">Space</kbd></span> במקלדת.<br>\n",
    "    בחלון שייפתח לכם, הקישו <q><em>Terminal</em></q>. התוכנה Terminal אמורה להופיע לכם כעת תחת המילים Top Hit.<br>\n",
    "    לחצו לחיצה כפולה על Terminal.<br>\n",
    "    בשלב זה אמור להופיע לכם על המסך חלון לבן. זוהי שורת הפקודה.\n",
    "</p>"
   ]
  },
  {
   "cell_type": "markdown",
   "metadata": {},
   "source": [
    "<p style=\"text-align: right; direction: rtl; float: right; clear: both;\">\n",
    "    עכשיו, כששורת הפקודה פתוחה, נוכל להתקין את החבילה wikipedia.<br>\n",
    "    נכתוב בשורת הפקודה: <kbd>pip install wikipedia</kbd>, ונראה את pip מתקין עבורנו את החבילה.<br>\n",
    "    פקודת ההתקנה מופיעה בראש הדף של החבילה באתר PyPI, ולרוב גם בתיעוד החבילה עצמו.\n",
    "</p>"
   ]
  },
  {
   "cell_type": "markdown",
   "metadata": {},
   "source": [
    "<div class=\"align-center\" style=\"display: flex; text-align: right; direction: rtl;\">\n",
    "    <div style=\"display: flex; width: 10%; \">\n",
    "        <img src=\"images/tip.png\" style=\"height: 50px !important;\" alt=\"אזהרה!\"> \n",
    "    </div>\n",
    "    <div style=\"width: 90%\">\n",
    "        <p style=\"text-align: right; direction: rtl;\">\n",
    "            אפשר להריץ פקודה בשורת הפקודה מהמחברת. פתחו תא קוד חדש, והדביקו את הפקודה כשלפניה סימן קריאה.<br>\n",
    "            לדוגמה, כדי להתקין את החבילה, השתמשו ב־<code dir=\"ltr\">!pip install wikipedia</code>\n",
    "        </p>\n",
    "    </div>\n",
    "</div>"
   ]
  },
  {
   "cell_type": "code",
   "execution_count": 2,
   "metadata": {},
   "outputs": [
    {
     "name": "stdout",
     "output_type": "stream",
     "text": [
      "Collecting wikipedia\n",
      "  Downloading wikipedia-1.4.0.tar.gz (27 kB)\n",
      "Requirement already satisfied: beautifulsoup4 in c:\\programdata\\anaconda3\\lib\\site-packages (from wikipedia) (4.9.3)\n",
      "Requirement already satisfied: requests<3.0.0,>=2.0.0 in c:\\programdata\\anaconda3\\lib\\site-packages (from wikipedia) (2.24.0)\n",
      "Requirement already satisfied: soupsieve>1.2; python_version >= \"3.0\" in c:\\programdata\\anaconda3\\lib\\site-packages (from beautifulsoup4->wikipedia) (2.0.1)\n",
      "Requirement already satisfied: chardet<4,>=3.0.2 in c:\\programdata\\anaconda3\\lib\\site-packages (from requests<3.0.0,>=2.0.0->wikipedia) (3.0.4)\n",
      "Requirement already satisfied: certifi>=2017.4.17 in c:\\programdata\\anaconda3\\lib\\site-packages (from requests<3.0.0,>=2.0.0->wikipedia) (2020.6.20)\n",
      "Requirement already satisfied: idna<3,>=2.5 in c:\\programdata\\anaconda3\\lib\\site-packages (from requests<3.0.0,>=2.0.0->wikipedia) (2.10)\n",
      "Requirement already satisfied: urllib3!=1.25.0,!=1.25.1,<1.26,>=1.21.1 in c:\\programdata\\anaconda3\\lib\\site-packages (from requests<3.0.0,>=2.0.0->wikipedia) (1.25.11)\n",
      "Building wheels for collected packages: wikipedia\n",
      "  Building wheel for wikipedia (setup.py): started\n",
      "  Building wheel for wikipedia (setup.py): finished with status 'done'\n",
      "  Created wheel for wikipedia: filename=wikipedia-1.4.0-py3-none-any.whl size=11689 sha256=1ba533459050ca83f6dc8b417003d90016a3775ff806a8ab13d9241d0fa1812d\n",
      "  Stored in directory: c:\\users\\tsahit\\appdata\\local\\pip\\cache\\wheels\\07\\93\\05\\72c05349177dca2e0ba31a33ba4f7907606f7ddef303517c6a\n",
      "Successfully built wikipedia\n",
      "Installing collected packages: wikipedia\n",
      "Successfully installed wikipedia-1.4.0\n"
     ]
    }
   ],
   "source": [
    "!pip install wikipedia"
   ]
  },
  {
   "cell_type": "markdown",
   "metadata": {},
   "source": [
    "## <span style=\"text-align: right; direction: rtl; float: right; clear: both;\">תפעול החבילה</span>"
   ]
  },
  {
   "cell_type": "markdown",
   "metadata": {},
   "source": [
    "<p style=\"text-align: right; direction: rtl; float: right; clear: both;\">\n",
    "    זה הזמן להתחיל לעבוד עם החבילה.<br>\n",
    "    בשלב הזה כדאי לפתוח את תיעוד החבילה ולנסות להריץ משם דברים כדי לקבל תחושה כללית בנוגע לטיבה.\n",
    "</p>"
   ]
  },
  {
   "cell_type": "markdown",
   "metadata": {},
   "source": [
    "<p style=\"text-align: right; direction: rtl; float: right; clear: both;\">\n",
    "    חיפוש זריז בגוגל של <q>python wikipedia module documentation</q> יחזיר לנו את התוצאה הרביעית מהחיפוש הקודם שלנו בגוגל.<br>\n",
    "    <a href=\"https://wikipedia.readthedocs.io/en/latest/\">ניכנס</a> ונריץ את שורות הקוד לדוגמה המופיעות בתיעוד:<br>\n",
    "</p>"
   ]
  },
  {
   "cell_type": "code",
   "execution_count": 3,
   "metadata": {},
   "outputs": [
    {
     "data": {
      "text/plain": [
       "'Wikimedia Foundation, Inc. (WMF, or simply Wikimedia) is an American foundation headquartered in San Francisco, California. It owns and operates the Wikimedia projects.It was established in 2003 by Jimmy Wales as a way to fund Wikipedia and its sibling projects through non-profit means. As of 2021, it employs over 550 staff and contractors, with annual revenues in excess of US$150 million.'"
      ]
     },
     "execution_count": 3,
     "metadata": {},
     "output_type": "execute_result"
    }
   ],
   "source": [
    "import wikipedia\n",
    "wikipedia.summary('Wikipedia')"
   ]
  },
  {
   "cell_type": "markdown",
   "metadata": {},
   "source": [
    "<p style=\"text-align: right; direction: rtl; float: right; clear: both;\">\n",
    "    יופי! כבר עכשיו אפשר להגיד שהצלחנו במשימה שלנו לאחזר את פסקת הסיכום מוויקיפדיה לפי ערך מילוני.<br>\n",
    "    לאן ממשיכים מכאן?\n",
    "</p>"
   ]
  },
  {
   "cell_type": "markdown",
   "metadata": {},
   "source": [
    "<p style=\"text-align: right; direction: rtl; float: right; clear: both;\">\n",
    "    נשוטט קצת <a href=\"https://wikipedia.readthedocs.io/en/latest/quickstart.html#quickstart\">בתיעוד</a> של החבילה כדי להבין מה עוד היא יכולה לעשות.<br>\n",
    "    נראה, לדוגמה, שאפשר לחפש ערכים גם בעברית!\n",
    "</p>"
   ]
  },
  {
   "cell_type": "code",
   "execution_count": 4,
   "metadata": {
    "scrolled": true
   },
   "outputs": [
    {
     "data": {
      "text/plain": [
       "'ויקיפדיה (באנגלית: Wikipedia) היא אנציקלופדיה מקוונת רב-לשונית, המבוססת על תוכן חופשי ומשתמשת בטכנולוגיית ויקי. ויקיפדיה היא האנציקלופדיה הכללית הגדולה והפופולרית ביותר באינטרנט, והיא הייתה אתר האינטרנט התשיעי הנצפה ביותר ברחבי העולם לפי דירוג אלכסה, באוקטובר 2019 ובמקום ה-13 באפריל 2021. מאחורי האתר עומדת קרן ויקימדיה, מוסד ללא כוונת רווח שמרכזו בארצות הברית. הקרן נותנת את שירותי המעטפת לקיום האתר, כגון תחזוקת שרתים, אך היא אינה מתערבת בניהול האתר, ומאפשרת לקהילת הוויקיפדים לקבל החלטות עצמאיות בנושאי התוכן. מוטו האתר הוא \"ויקיפדיה - האנציקלופדיה החופשית\", כאשר \"חופשי\" פירושו חופשי לעיון ללא כל מגבלה, חופשי לעריכה וחופשי להעתקה ולהפצה. תוכן האתר מוגש תחת הרישיון החופשי CC-BY-SA.\\nויקיפדיה נכתבת ומשופרת מִדֵּי יום בידי רבבות מתנדבים, ומסתמכת על רעיון חוכמת ההמונים. המתנדבים כותבים את הערכים, יוצרים את הגרפיקה המעטרת את האנציקלופדיה, וכן מסייעים בהגהה ובניטור התוכן מפני השחתות. ויקיפדיה נכתבת בכ-300 שפות, ובהן גם עברית. גרסאות ויקיפדיה בכל השפות מהוות המשך לתנועת התוכנה החופשית ולעיתים מתייחסים אליהן גם כחלק מתנועה הנקראת \"תרבות חופשית\". ערכים מעטים נכתבים על ידי כותבים המקבלים תשלום ממי שהזמין את כתיבת הערך.\\nויקיפדיה הושקה ב-15 בינואר 2001 כמיזם מיקור המונים על ידי ג\\'ימי ויילס ולארי סנגר. סנגר בחר את שם האתר אשר הוא שילוב של המילה \"ויקי\" (אשר פירושה בהוואית \"מהיר\") ו\"אנציקלופדיה\". בעוד שבתחילת הדרך הייתה קיימת רק אנציקלופדיה בשפה האנגלית, לאורך השנים פותחו מהדורות בשפות רבות אחרות לוויקיפדיה. הוויקיפדיה האנגלית היא המהדורה הגדולה ביותר של ויקיפדיה מבין כל 301 המהדורות של ויקיפדיה. נכון לנובמבר 2018, יש בוויקיפדיה למעלה מ-49 מיליון ערכים אם מסכמים את הערכים בכל השפות בהן היא כתובה. למעלה מ-5.7 מיליון ערכים כתובים בוויקיפדיה האנגלית, ואלה מהווים כ-11.5% ממספר הערכים הכללי. כמות פעולות העריכה שנעשו בכל הדפים והערכים יחדיו עולה על 2.4 מיליארד. באתר רשומים למעלה מ-78.5 מיליון משתמשים ויש בו למעלה מ-2.5 מיליון תמונות חופשיות.\\nבשנת 2006 נכתב במגזין \"טיים\" כי המדיניות של ויקיפדיה שמאפשרת לכל אדם לערוך ערכים הפכה את ויקיפדיה לאנציקלופדיה הגדולה ביותר ואולי אף הטובה ביותר בעולם, והיא עדות לחזון של ג\\'ימי ויילס.\\nלאורך השנים ויקיפדיה ספגה ביקורת על כך שבמקרים מסוימים היא עשויה להיות מושפעת מהטיה מערכתית, ועל כך שהיא עשויה במקרים מסוימים להיות כפופה למניפולציה ולספינים בנושאים שנויים במחלוקת. כמו כן, לאורך השנים הועלו ביקורות שונות על ויקיפדיה המתייחסות בעיקר לשתי טענות מרכזיות - העובדה שהאנציקלופדיה ניתנת לעריכה על ידי כל אחד (רבים טוענים שבשל כך ויקיפדיה לא יכולה להיות אנציקלופדיה אמינה, וכי הדבר מפחית את חשיבותה ואמינותה כמקור עליו אפשר להסתמך ולהפנות) וכי הדינמיקה בין עורכי האתר איננה מוצלחת, ומערערת על המטרות שבגינן האתר נוצר (האמור יוצר חשש להטיות מערכתיות, מגדריות וגזעניות בקרב קהילת העורכים, וכן שבמקרים מסוימים עלולה להיווצר קליקה בין עורכים באתר).'"
      ]
     },
     "execution_count": 4,
     "metadata": {},
     "output_type": "execute_result"
    }
   ],
   "source": [
    "import wikipedia\n",
    "wikipedia.set_lang(\"he\")\n",
    "wikipedia.summary(\"ויקיפדיה\")"
   ]
  },
  {
   "cell_type": "markdown",
   "metadata": {},
   "source": [
    "<div class=\"align-center\" style=\"display: flex; text-align: right; direction: rtl; clear: both;\">\n",
    "    <div style=\"display: flex; width: 10%; float: right; clear: both;\">\n",
    "        <img src=\"images/exercise.svg\" style=\"height: 50px !important;\" alt=\"תרגול\"> \n",
    "    </div>\n",
    "    <div>\n",
    "        <p style=\"text-align: right; direction: rtl; float: right; clear: both;\">\n",
    "            מצאו אילו נקודות עניין יש ברדיוס של עד 600 מטר מהנקודה שהקואורדינטות שלה הן: קו רוחב 29.979167 וקו אורך 31.134167.<br>\n",
    "            השתמשו בחבילה wikipedia ובתיעוד שלה.\n",
    "        </p>\n",
    "    </div>\n",
    "</div>"
   ]
  },
  {
   "cell_type": "code",
   "execution_count": 7,
   "metadata": {},
   "outputs": [
    {
     "data": {
      "text/plain": [
       "['הפירמידה הגדולה של גיזה',\n",
       " \"הספינה של ח'ופו\",\n",
       " 'פירמידת חעפרע',\n",
       " 'מתחם הפירמידות בגיזה',\n",
       " 'הספינקס הגדול של גיזה']"
      ]
     },
     "execution_count": 7,
     "metadata": {},
     "output_type": "execute_result"
    }
   ],
   "source": [
    "wikipedia.geosearch(29.979167, 31.134167, title=None, results=10, radius=600)"
   ]
  },
  {
   "cell_type": "markdown",
   "metadata": {},
   "source": [
    "<p style=\"text-align: right; direction: rtl; float: right; clear: both;\">\n",
    "    אם אתם אמיצים במיוחד ומרגישים ברי־מזל, תוכלו לכתוב את שם החבילה, נקודה, ואז ללחוץ על <kbd dir=\"ltr\">Tab ↹</kbd> במקלדת.<br>\n",
    "    התוצאה תהיה רשימת הפעולות הקיימות בחבילה, מסודרת לפי סדר מילוני.\n",
    "</p>\n",
    "<p style=\"text-align: right; direction: rtl; float: right; clear: both;\">\n",
    "    קל מאוד ללכת לאיבוד בצורה הזו.<br>\n",
    "    פעמים רבות תראו לצד הפעולות גם משתנים פנימיים שבהם החבילה עושה שימוש,<br>\n",
    "    והסידור האלפבתי לא מקל על מציאת פונקציות שבהן אנחנו רוצים להשתמש.<br>\n",
    "    כשמתאפשר, נעדיף להשתמש בתיעוד שכתב המפתח.\n",
    "</p>"
   ]
  },
  {
   "cell_type": "markdown",
   "metadata": {},
   "source": [
    "## <span style=\"text-align: right; direction: rtl; float: right; clear: both;\">ניהול חבילות</span>"
   ]
  },
  {
   "cell_type": "markdown",
   "metadata": {},
   "source": [
    "<p style=\"text-align: right; direction: rtl; float: right; clear: both;\">\n",
    "    pip מאפשרת לנו לנהל את כל חבילות הפייתון שמותקנות על המחשב שלנו.<br>\n",
    "    נסקור כמה פקודות שכדאי להכיר:<br>\n",
    "</p>"
   ]
  },
  {
   "cell_type": "markdown",
   "metadata": {},
   "source": [
    "<dl style=\"text-align: right; direction: rtl; float: right; clear: both;\">\n",
    "    <dt><code dir=\"ltr\">pip install</code></dt>\n",
    "    <dd>\n",
    "        מאפשרת לנו להתקין חבילה חדשה, או לשדרג חבילה קיימת.<br>\n",
    "        כדי לשדרג חבילה קיימת, השתמשו בדגל <kbd dir=\"ltr\">-U</kbd>: <kbd>pip install -U wikipedia</kbd>.<br>\n",
    "        במערכות שבהן פייתון מותקנת בהרשאות נמוכות, התקינו רק עבור המשתמש המקומי באמצעות הדגל <kbd dir=\"ltr\">--user</kbd>: <kbd>pip install --user wikipedia</kbd>.\n",
    "    </dd>\n",
    "    <dt><code dir=\"ltr\">pip uninstall</code></dt>\n",
    "    <dd>\n",
    "        מאפשרת להסיר חבילה מסוימת מהמחשב: <kbd dir=\"ltr\">pip uninstall wikipedia</kbd>.\n",
    "    </dd>\n",
    "    <dt><code dir=\"ltr\">pip show</code></dt>\n",
    "    <dd>\n",
    "        מאפשרת לסקור פרטים נוספים על החבילה: <kbd dir=\"ltr\">pip show wikipedia</kbd>.\n",
    "    </dd>\n",
    "    <dt><code dir=\"ltr\">pip search</code></dt>\n",
    "    <dd>\n",
    "        מאפשרת לחפש חבילות משורת הפקודה, לדוגמה: <kbd dir=\"ltr\">pip search wikipedia</kbd>.<br>\n",
    "        גוגל זה גם אחלה.\n",
    "    </dd>\n",
    "    <dt><code dir=\"ltr\">pip list</code></dt>\n",
    "    <dd>\n",
    "        מאפשרת לראות את רשימת כל החבילות שהותקנו במחשב שלנו.<br>\n",
    "        שימו לב שה־Anaconda שהתקנו מוסיפה לתהליך ההתקנה חבילות רבות, ולכן הרשימה שתראו מנופחת יחסית.\n",
    "    </dd>\n",
    "</dl>"
   ]
  },
  {
   "cell_type": "markdown",
   "metadata": {},
   "source": [
    "## <span style=\"text-align: right; direction: rtl; float: right; clear: both;\">מונחים</span>"
   ]
  },
  {
   "cell_type": "markdown",
   "metadata": {},
   "source": [
    "<dl style=\"text-align: right; direction: rtl; float: right; clear: both;\">\n",
    "<dt>PyPI</dt><dd>\n",
    "    מאגר עצום המאחסן חבילות פייתון שמפתחים יצרו והעלו אליו.<br>\n",
    "    המקום שממנו pip מושך את קובצי החבילות שהוא צריך להתקין. \n",
    "</dd>\n",
    "<dt>pip</dt><dd>\n",
    "    כלי המותקן יחד עם פייתון ועוזר לנו לנהל את החבילות שנמצאות על המחשב שלנו.<br>\n",
    "    ראשי תיבות של Pip Install Packages.</dd>\n",
    "<dt>חבילה</dt><dd>\n",
    "    בניגוד למודול, שהוא קובץ פייתון אחד שניתן לייבא, חבילה היא צירוף של כמה מודולים שניתן לייבא בפקודה אחת.<br>\n",
    "    בעתיד נרד לעומקו של העניין, אבל עד אז עד אז נניח שהמילים \"חבילה\" ו\"מודול\" הן נרדפות.\n",
    "</dd>\n",
    "</dl>"
   ]
  },
  {
   "cell_type": "markdown",
   "metadata": {},
   "source": [
    "## <span style=\"align: right; direction: rtl; float: right; clear: both;\">סיכום</span>"
   ]
  },
  {
   "cell_type": "markdown",
   "metadata": {},
   "source": [
    "<p style=\"text-align: right; direction: rtl; float: right; clear: both;\">\n",
    "    במחברת זו למדנו כיצד מוצאים, מתקינים ומשתמשים במודול שכתבו מפתחי פייתון אחרים.<br>\n",
    "    היכולת למצוא קטעי קוד שכתבו מתכנתים אחרים ולהשתמש בהם, היא אחד הכלים החשובים ביותר עבור כל מתכנת.\n",
    "</p>"
   ]
  },
  {
   "cell_type": "markdown",
   "metadata": {},
   "source": [
    "<p style=\"text-align: right; direction: rtl; float: right; clear: both;\">\n",
    "    ככל שתשתמשו יותר בחבילות חיצוניות, כך יתפתחו יכולותיכם הקשורות במציאה של מודולים חדשים ובתפעולם.<br>\n",
    "    הקפידו לזכור שלרוב קיים פתרון לכל בעיה שנתקלתם בה, והרבו להשתמש בחבילות חיצוניות כדי לפתור בעיות.\n",
    "</p>"
   ]
  },
  {
   "cell_type": "markdown",
   "metadata": {},
   "source": [
    "## <span style=\"align: right; direction: rtl; float: right; clear: both;\">תרגילים</span>"
   ]
  },
  {
   "cell_type": "markdown",
   "metadata": {},
   "source": [
    "### <span style=\"align: right; direction: rtl; float: right; clear: both;\">שְׁתַּיִם דֻּבִּים מִן הַגִּיזָה</span>"
   ]
  },
  {
   "cell_type": "markdown",
   "metadata": {},
   "source": [
    "<p style=\"text-align: right; direction: rtl; float: right; clear: both;\">\n",
    "מצאו במחשבכם חבילה אחת ששמה כשם של חיה, חבילה אחת ששמה כשם של מספר וחבילה אחת ששמה כשם של יצור מתולוגי.<br>\n",
    "בחרו באחת מהן והסבירו במשפט אחד מה היא עושה.\n",
    "</p>"
   ]
  },
  {
   "cell_type": "markdown",
   "metadata": {},
   "source": [
    "<p style=\"text-align: right; direction: rtl; float: right; clear: both;\">\n",
    "    שימו לב: אפשר להתעלם מהערות הבודק האוטומטי.\n",
    "</p>"
   ]
  },
  {
   "cell_type": "code",
   "execution_count": 68,
   "metadata": {
    "scrolled": false
   },
   "outputs": [
    {
     "name": "stdout",
     "output_type": "stream",
     "text": [
      "Package                            Version\n",
      "---------------------------------- -------------------\n",
      "alabaster                          0.7.12\n",
      "anaconda-client                    1.7.2\n",
      "anaconda-navigator                 1.10.0\n",
      "anaconda-project                   0.8.3\n",
      "argh                               0.26.2\n",
      "argon2-cffi                        20.1.0\n",
      "asgiref                            3.4.1\n",
      "asn1crypto                         1.4.0\n",
      "astroid                            2.4.2\n",
      "astropy                            4.0.2\n",
      "async-generator                    1.10\n",
      "Note: you may need to restart the kernel to use updated packages.atomicwrites                       1.4.0\n",
      "attrs                              20.3.0\n",
      "autopep8                           1.5.4\n",
      "Babel                              2.8.1\n",
      "backcall                           0.2.0\n",
      "backports.functools-lru-cache      1.6.1\n",
      "backports.shutil-get-terminal-size 1.0.0\n",
      "backports.tempfile                 1.0\n",
      "backports.weakref                  1.0.post1\n",
      "bcrypt                             3.2.0\n",
      "beautifulsoup4                     4.9.3\n",
      "bitarray                           1.6.1\n",
      "bkcharts                           0.2\n",
      "bleach                             3.2.1\n",
      "bokeh                              2.2.3\n",
      "boto                               2.49.0\n",
      "Bottleneck                         1.3.2\n",
      "\n",
      "brotlipy                           0.7.0\n",
      "certifi                            2020.6.20\n",
      "cffi                               1.14.3\n",
      "chardet                            3.0.4\n",
      "click                              7.1.2\n",
      "cloudpickle                        1.6.0\n",
      "clyent                             1.2.2\n",
      "colorama                           0.4.4\n",
      "comtypes                           1.1.7\n",
      "conda                              4.9.2\n",
      "conda-build                        3.20.5\n",
      "conda-package-handling             1.7.2\n",
      "conda-verify                       3.4.2\n",
      "contextlib2                        0.6.0.post1\n",
      "cryptography                       3.1.1\n",
      "cycler                             0.10.0\n",
      "Cython                             0.29.21\n",
      "cytoolz                            0.11.0\n",
      "dask                               2.30.0\n",
      "decorator                          4.4.2\n",
      "defusedxml                         0.6.0\n",
      "diff-match-patch                   20200713\n",
      "distributed                        2.30.1\n",
      "dndchar                            1.1.1\n",
      "docutils                           0.16\n",
      "entrypoints                        0.3\n",
      "et-xmlfile                         1.0.1\n",
      "Faker                              11.3.0\n",
      "fastcache                          1.1.0\n",
      "filelock                           3.0.12\n",
      "flake8                             3.8.4\n",
      "Flask                              1.1.2\n",
      "fsspec                             0.8.3\n",
      "future                             0.18.2\n",
      "Generator-Random                   0.0.2\n",
      "gevent                             20.9.0\n",
      "glob2                              0.7\n",
      "greenlet                           0.4.17\n",
      "h5py                               2.10.0\n",
      "HeapDict                           1.0.1\n",
      "html5lib                           1.1\n",
      "idna                               2.10\n",
      "imageio                            2.9.0\n",
      "imagesize                          1.2.0\n",
      "importlib-metadata                 2.0.0\n",
      "iniconfig                          1.1.1\n",
      "intervaltree                       3.1.0\n",
      "ipykernel                          5.3.4\n",
      "ipython                            7.19.0\n",
      "ipython-genutils                   0.2.0\n",
      "ipywidgets                         7.5.1\n",
      "isort                              5.6.4\n",
      "itsdangerous                       1.1.0\n",
      "jdcal                              1.4.1\n",
      "jedi                               0.17.1\n",
      "Jinja2                             2.11.2\n",
      "joblib                             0.17.0\n",
      "json5                              0.9.5\n",
      "jsonschema                         3.2.0\n",
      "jupyter                            1.0.0\n",
      "jupyter-client                     6.1.7\n",
      "jupyter-console                    6.2.0\n",
      "jupyter-core                       4.6.3\n",
      "jupyterlab                         2.2.6\n",
      "jupyterlab-pygments                0.1.2\n",
      "jupyterlab-server                  1.2.0\n",
      "keyring                            21.4.0\n",
      "kiwisolver                         1.3.0\n",
      "lazy-object-proxy                  1.4.3\n",
      "libarchive-c                       2.9\n",
      "llvmlite                           0.34.0\n",
      "locket                             0.2.0\n",
      "lxml                               4.6.1\n",
      "MarkupSafe                         1.1.1\n",
      "matplotlib                         3.3.2\n",
      "mccabe                             0.6.1\n",
      "menuinst                           1.4.16\n",
      "mistune                            0.8.4\n",
      "mkl-fft                            1.2.0\n",
      "mkl-random                         1.1.1\n",
      "mkl-service                        2.3.0\n",
      "mock                               4.0.2\n",
      "more-itertools                     8.6.0\n",
      "mpmath                             1.1.0\n",
      "msgpack                            1.0.0\n",
      "multipledispatch                   0.6.0\n",
      "navigator-updater                  0.2.1\n",
      "nbclient                           0.5.1\n",
      "nbconvert                          6.0.7\n",
      "nbformat                           5.0.8\n",
      "nest-asyncio                       1.4.2\n",
      "networkx                           2.5\n",
      "nltk                               3.5\n",
      "nose                               1.3.7\n",
      "notebook                           6.1.4\n",
      "numba                              0.51.2\n",
      "numexpr                            2.7.1\n",
      "numpy                              1.19.2\n",
      "numpydoc                           1.1.0\n",
      "olefile                            0.46\n",
      "opencv-python                      4.5.5.62\n",
      "openpyxl                           3.0.5\n",
      "packaging                          20.4\n",
      "pandas                             1.1.3\n",
      "pandocfilters                      1.4.3\n",
      "paramiko                           2.7.2\n",
      "parso                              0.7.0\n",
      "partd                              1.1.0\n",
      "path                               15.0.0\n",
      "pathlib2                           2.3.5\n",
      "pathtools                          0.1.2\n",
      "patsy                              0.5.1\n",
      "pep8                               1.7.1\n",
      "pexpect                            4.8.0\n",
      "pickleshare                        0.7.5\n",
      "Pillow                             8.0.1\n",
      "pip                                20.2.4\n",
      "pkginfo                            1.6.1\n",
      "pluggy                             0.13.1\n",
      "ply                                3.11\n",
      "prometheus-client                  0.8.0\n",
      "prompt-toolkit                     3.0.8\n",
      "psutil                             5.7.2\n",
      "py                                 1.9.0\n",
      "pycodestyle                        2.6.0\n",
      "pycosat                            0.6.3\n",
      "pycparser                          2.20\n",
      "pycurl                             7.43.0.6\n",
      "pydocstyle                         5.1.1\n",
      "pyflakes                           2.2.0\n",
      "Pygments                           2.7.2\n",
      "pylint                             2.6.0\n",
      "PyNaCl                             1.4.0\n",
      "pyodbc                             4.0.0-unsupported\n",
      "pyOpenSSL                          19.1.0\n",
      "pyparsing                          2.4.7\n",
      "pyreadline                         2.1\n",
      "pyrsistent                         0.17.3\n",
      "PySocks                            1.7.1\n",
      "pytest                             0.0.0\n",
      "python-dateutil                    2.8.1\n",
      "python-jsonrpc-server              0.4.0\n",
      "python-language-server             0.35.1\n",
      "pytz                               2020.1\n",
      "PyWavelets                         1.1.1\n",
      "pywin32                            227\n",
      "pywin32-ctypes                     0.2.0\n",
      "pywinpty                           0.5.7\n",
      "PyYAML                             5.3.1\n",
      "pyzmq                              19.0.2\n",
      "QDarkStyle                         2.8.1\n",
      "QtAwesome                          1.0.1\n",
      "qtconsole                          4.7.7\n",
      "QtPy                               1.9.0\n",
      "RandomPhone                        0.0.1\n",
      "regex                              2020.10.15\n",
      "requests                           2.24.0\n",
      "rope                               0.18.0\n",
      "Rtree                              0.9.4\n",
      "ruamel-yaml                        0.15.87\n",
      "scikit-image                       0.17.2\n",
      "scikit-learn                       0.23.2\n",
      "scipy                              1.5.2\n",
      "seaborn                            0.11.0\n",
      "Send2Trash                         1.5.0\n",
      "setuptools                         50.3.1.post20201107\n",
      "simplegeneric                      0.8.1\n",
      "singledispatch                     3.4.0.3\n",
      "sip                                4.19.13\n",
      "six                                1.15.0\n",
      "snowballstemmer                    2.0.0\n",
      "sortedcollections                  1.2.1\n",
      "sortedcontainers                   2.2.2\n",
      "soupsieve                          2.0.1\n",
      "Sphinx                             3.2.1\n",
      "sphinxcontrib-applehelp            1.0.2\n",
      "sphinxcontrib-devhelp              1.0.2\n",
      "sphinxcontrib-htmlhelp             1.0.3\n",
      "sphinxcontrib-jsmath               1.0.1\n",
      "sphinxcontrib-qthelp               1.0.3\n",
      "sphinxcontrib-serializinghtml      1.1.4\n",
      "sphinxcontrib-websupport           1.2.4\n",
      "spyder                             4.1.5\n",
      "spyder-kernels                     1.9.4\n",
      "SQLAlchemy                         1.3.20\n",
      "sqlparse                           0.4.2\n",
      "statsmodels                        0.12.0\n",
      "sympy                              1.6.2\n",
      "tables                             3.6.1\n",
      "tblib                              1.7.0\n",
      "terminado                          0.9.1\n",
      "testpath                           0.4.4\n",
      "text-unidecode                     1.3\n",
      "threadpoolctl                      2.1.0\n",
      "tifffile                           2020.10.1\n",
      "toml                               0.10.1\n",
      "toolz                              0.11.1\n",
      "tornado                            6.0.4\n",
      "tqdm                               4.50.2\n",
      "traitlets                          5.0.5\n",
      "typing-extensions                  3.7.4.3\n",
      "tzdata                             2021.5\n",
      "ujson                              4.0.1\n",
      "unicodecsv                         0.14.1\n",
      "urllib3                            1.25.11\n",
      "watchdog                           0.10.3\n",
      "wcwidth                            0.2.5\n",
      "webencodings                       0.5.1\n",
      "Werkzeug                           1.0.1\n",
      "wheel                              0.35.1\n",
      "widgetsnbextension                 3.5.1\n",
      "wikipedia                          1.4.0\n",
      "win-inet-pton                      1.1.0\n",
      "win-unicode-console                0.5\n",
      "wincertstore                       0.2\n",
      "wrapt                              1.11.2\n",
      "xlrd                               1.2.0\n",
      "XlsxWriter                         1.3.7\n",
      "xlwings                            0.20.8\n",
      "xlwt                               1.3.0\n",
      "xmltodict                          0.12.0\n",
      "yapf                               0.30.0\n",
      "zict                               2.0.0\n",
      "zipp                               3.4.0\n",
      "zope.event                         4.5.0\n",
      "zope.interface                     5.1.2\n"
     ]
    }
   ],
   "source": [
    "pip list"
   ]
  },
  {
   "cell_type": "code",
   "execution_count": null,
   "metadata": {},
   "outputs": [],
   "source": [
    "#the modules:\n",
    "#-pandas\n",
    "#-six\n",
    "#-Sphinx                             \n"
   ]
  },
  {
   "cell_type": "code",
   "execution_count": 10,
   "metadata": {},
   "outputs": [
    {
     "name": "stdout",
     "output_type": "stream",
     "text": [
      "Name: pandas\n",
      "Version: 1.1.3\n",
      "Summary: Powerful data structures for data analysis, time series, and statistics\n",
      "Home-page: https://pandas.pydata.org\n",
      "Author: None\n",
      "Author-email: None\n",
      "License: BSD\n",
      "Location: c:\\programdata\\anaconda3\\lib\\site-packages\n",
      "Requires: pytz, numpy, python-dateutil\n",
      "Required-by: statsmodels, seaborn\n",
      "Note: you may need to restart the kernel to use updated packages.\n"
     ]
    }
   ],
   "source": [
    "pip show pandas"
   ]
  },
  {
   "cell_type": "markdown",
   "metadata": {},
   "source": [
    "### <span style=\"align: right; direction: rtl; float: right; clear: both;\">זהות בדויה</span>"
   ]
  },
  {
   "cell_type": "markdown",
   "metadata": {},
   "source": [
    "<p style=\"text-align: right; direction: rtl; float: right; clear: both;\">\n",
    "    כתבו פונקציה בשם <var>create_people</var> שמקבלת מספר ($n$) ומחזירה $n$ פרטי אנשים מזויפים.<br>\n",
    "    \"איש\" מוגדר כצירוף הפרטים של שם מלא, כתובת, כתובת דואר אלקטרוני ומספר טלפון.<br>\n",
    "    בחרו בעצמכם את מבני הנתונים שבהם כדאי לעשות שימוש בתרגיל זה.\n",
    "</p>"
   ]
  },
  {
   "cell_type": "code",
   "execution_count": 14,
   "metadata": {
    "scrolled": true
   },
   "outputs": [
    {
     "name": "stdout",
     "output_type": "stream",
     "text": [
      "Collecting Faker\n",
      "  Downloading Faker-11.3.0-py3-none-any.whl (1.2 MB)\n",
      "Collecting text-unidecode==1.3\n",
      "  Downloading text_unidecode-1.3-py2.py3-none-any.whl (78 kB)\n",
      "Requirement already satisfied: python-dateutil>=2.4 in c:\\programdata\\anaconda3\\lib\\site-packages (from Faker) (2.8.1)\n",
      "Requirement already satisfied: six>=1.5 in c:\\programdata\\anaconda3\\lib\\site-packages (from python-dateutil>=2.4->Faker) (1.15.0)\n",
      "Installing collected packages: text-unidecode, Faker\n",
      "Successfully installed Faker-11.3.0 text-unidecode-1.3\n",
      "Note: you may need to restart the kernel to use updated packages.\n"
     ]
    }
   ],
   "source": [
    "pip install Faker"
   ]
  },
  {
   "cell_type": "code",
   "execution_count": 55,
   "metadata": {},
   "outputs": [],
   "source": [
    "from faker import Faker\n",
    "fake = Faker()\n",
    "\n",
    "def create_people(n):\n",
    "    for _ in range(n):\n",
    "        profile = fake.simple_profile()\n",
    "        our_profile = {key : value for key, value in profile.items() if key in ['address', 'name', 'mail']} \n",
    "        our_profile['phone number'] = fake.phone_number() #המספר נראה לא משהו אבל לא מצאתי איך מסדרים אותו בחבילה הזוו\n",
    "        print(our_profile)"
   ]
  },
  {
   "cell_type": "code",
   "execution_count": 57,
   "metadata": {},
   "outputs": [
    {
     "name": "stdout",
     "output_type": "stream",
     "text": [
      "{'name': 'Lisa Valdez', 'address': '1086 Johnson Path Apt. 155\\nSouth Tammyberg, NC 82490', 'mail': 'susan06@yahoo.com', 'phone number': '+1-222-239-5076'}\n",
      "{'name': 'Madison Murphy', 'address': '269 Fernando Prairie Apt. 622\\nNorth Madisonhaven, AZ 06688', 'mail': 'berrydylan@gmail.com', 'phone number': '(066)953-2583x8612'}\n",
      "{'name': 'Gregory Davis', 'address': '76914 Dyer Landing Apt. 997\\nWest Billy, MO 82565', 'mail': 'fergusonmelissa@gmail.com', 'phone number': '(066)617-9722x5762'}\n"
     ]
    }
   ],
   "source": [
    "create_people(3)"
   ]
  },
  {
   "cell_type": "markdown",
   "metadata": {},
   "source": [
    "### <span style=\"align: right; direction: rtl; float: right; clear: both;\">זכרו זכרו</span>"
   ]
  },
  {
   "cell_type": "markdown",
   "metadata": {},
   "source": [
    "p style=\"text-align: right; direction: rtl; float: right; clear: both;\">\n",
    "    הצילו! טרוריסט משוגע מנסה לבצע פיגוע, ויכולות הפייתון שלכם הן היחידות שיכולות לעזור!<br>\n",
    "    מאמצי מודיעין נרחבים הביאו אותנו למסקנה שהטרוריסט מצפין את מסריו בתמונות כך:\n",
    "</p>"
   ]
  },
  {
   "cell_type": "markdown",
   "metadata": {},
   "source": [
    "<p style=\"text-align: right; direction: rtl; float: right; clear: both;\">\n",
    "    בכל עמודה בתמונה ישנו פיקסל אחד שצבוע בשחור.<br>\n",
    "    הפיקסל צבוע במספר השורה שתואם את הערך המספרי של התו (ראו תיעוד על הפונקציות <var>ord</var>, <var>chr</var>).<br>\n",
    "    אם ממירים את המיקום שבו נמצאים הפיקסלים השחורים לפי סדר, משמאל לימין, מקבלים את המסר המוכמן.\n",
    "</p>"
   ]
  },
  {
   "cell_type": "markdown",
   "metadata": {},
   "source": [
    "<p style=\"text-align: right; direction: rtl; float: rhttps://zoom.us/j/6723465539ight; clear: both;\">\n",
    "    לדוגמה, אם בתמונה בגודל <span dir=\"ltr\">(2, 255)</span> הפיקסל השמאלי נמצא בשורה מספר 72 והפיקסל הימני נמצא בשורה מספר 105, המסר המוכמן הוא \"<samp>Hi</samp>\".\n",
    "</p>"
   ]
  },
  {
   "cell_type": "markdown",
   "metadata": {},
   "source": [
    "<p style=\"text-align: right; direction: rtl; float: right; clear: both;\">\n",
    "    כתבו פונקציה שמקבלת נתיב לקובץ המוצפן ומחזירה את המסר המוצפן בו.<br>\n",
    "    השתמשו בקובץ resources/code.png כדי לפענח את המסר של הטרוריסט!\n",
    "</p>"
   ]
  },
  {
   "cell_type": "code",
   "execution_count": 65,
   "metadata": {},
   "outputs": [],
   "source": [
    "from PIL import Image\n",
    "\n",
    "def decription(path):\n",
    "    image = Image.open(\"resources/code.png\")\n",
    "    widhth, height = image.size\n",
    "    image_rgb = image.convert(\"RGB\")\n",
    "    decrypt = \"\"\n",
    "\n",
    "    for j in range(widhth):\n",
    "        for i in range(height):\n",
    "            if (image_rgb.getpixel((j, i)) == (1, 1, 1)):\n",
    "                decrypt += (chr(i))\n",
    "    print (decrypt)"
   ]
  },
  {
   "cell_type": "code",
   "execution_count": 66,
   "metadata": {},
   "outputs": [
    {
     "name": "stdout",
     "output_type": "stream",
     "text": [
      "Place gunpowder beneath the House of Lords. 11/05/1605\n"
     ]
    }
   ],
   "source": [
    "decription(\"resources/code.png\")"
   ]
  }
 ],
 "metadata": {
  "kernelspec": {
   "display_name": "Python 3",
   "language": "python",
   "name": "python3"
  },
  "language_info": {
   "codemirror_mode": {
    "name": "ipython",
    "version": 3
   },
   "file_extension": ".py",
   "mimetype": "text/x-python",
   "name": "python",
   "nbconvert_exporter": "python",
   "pygments_lexer": "ipython3",
   "version": "3.8.5"
  }
 },
 "nbformat": 4,
 "nbformat_minor": 2
}
